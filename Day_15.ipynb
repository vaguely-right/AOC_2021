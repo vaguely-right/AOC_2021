{
 "cells": [
  {
   "cell_type": "code",
   "execution_count": 1,
   "id": "f16d50f3",
   "metadata": {},
   "outputs": [],
   "source": [
    "from aocd import get_data\n",
    "import numpy as np\n",
    "import networkx as nx\n",
    "\n",
    "day15 = get_data(day=15,year=2021)"
   ]
  },
  {
   "cell_type": "code",
   "execution_count": 2,
   "id": "60a4ee64",
   "metadata": {},
   "outputs": [
    {
     "data": {
      "text/plain": [
       "714"
      ]
     },
     "execution_count": 2,
     "metadata": {},
     "output_type": "execute_result"
    }
   ],
   "source": [
    "cavern = np.array([[int(j) for j in i] for i in day15.split('\\n')])\n",
    "\n",
    "g = nx.grid_2d_graph(cavern.shape[0],cavern.shape[1],create_using=nx.DiGraph)\n",
    "for i,j in g.edges:\n",
    "    g[i][j]['weight'] = cavern[j]\n",
    "        \n",
    "\n",
    "nx.shortest_path_length(g,source=(0,0),target=(cavern.shape[0]-1,cavern.shape[1]-1),weight='weight')"
   ]
  },
  {
   "cell_type": "markdown",
   "id": "4883927b",
   "metadata": {},
   "source": [
    "Got it! Had to mess around with defining a networkx grid and getting the weights set in the correct place, but got it."
   ]
  },
  {
   "cell_type": "code",
   "execution_count": 17,
   "id": "2fb4b0f8",
   "metadata": {},
   "outputs": [],
   "source": [
    "bigcavern = np.tile(cavern,[5,5])\n",
    "for i in range(5):\n",
    "    bigcavern[i*100:(i+1)*100,:] += i\n",
    "    bigcavern[:,i*100:(i+1)*100] += i\n"
   ]
  },
  {
   "cell_type": "code",
   "execution_count": 18,
   "id": "946fd4dc",
   "metadata": {},
   "outputs": [],
   "source": [
    "bigcavern = np.where(bigcavern>9,bigcavern-9,bigcavern)"
   ]
  },
  {
   "cell_type": "code",
   "execution_count": 19,
   "id": "fbac584f",
   "metadata": {},
   "outputs": [
    {
     "data": {
      "text/plain": [
       "2948"
      ]
     },
     "execution_count": 19,
     "metadata": {},
     "output_type": "execute_result"
    }
   ],
   "source": [
    "g = nx.grid_2d_graph(bigcavern.shape[0],bigcavern.shape[1],create_using=nx.DiGraph)\n",
    "for i,j in g.edges:\n",
    "    g[i][j]['weight'] = bigcavern[j]\n",
    "        \n",
    "\n",
    "nx.shortest_path_length(g,source=(0,0),target=(bigcavern.shape[0]-1,bigcavern.shape[1]-1),weight='weight')"
   ]
  },
  {
   "cell_type": "markdown",
   "id": "ee28e078",
   "metadata": {},
   "source": [
    "Done!"
   ]
  }
 ],
 "metadata": {
  "kernelspec": {
   "display_name": "Python 3 (ipykernel)",
   "language": "python",
   "name": "python3"
  },
  "language_info": {
   "codemirror_mode": {
    "name": "ipython",
    "version": 3
   },
   "file_extension": ".py",
   "mimetype": "text/x-python",
   "name": "python",
   "nbconvert_exporter": "python",
   "pygments_lexer": "ipython3",
   "version": "3.9.7"
  }
 },
 "nbformat": 4,
 "nbformat_minor": 5
}
