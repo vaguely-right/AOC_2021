{
 "cells": [
  {
   "cell_type": "code",
   "execution_count": 1,
   "id": "0406d4cd",
   "metadata": {},
   "outputs": [],
   "source": [
    "from aocd import get_data\n",
    "import numpy as np\n",
    "\n",
    "day11 = get_data(day=11,year=2021)"
   ]
  },
  {
   "cell_type": "code",
   "execution_count": 2,
   "id": "0bd03133",
   "metadata": {},
   "outputs": [
    {
     "name": "stdout",
     "output_type": "stream",
     "text": [
      "1661\n"
     ]
    }
   ],
   "source": [
    "energy = np.pad(np.array([[int(j) for j in i] for i in day11.split('\\n')]),1)\n",
    "flashed = np.zeros((12,12))\n",
    "flashes = 0\n",
    "\n",
    "for i in range(100):\n",
    "    energy += 1\n",
    "    nflashes = 1\n",
    "    flashed = np.zeros((12,12))\n",
    "    while nflashes > 0:\n",
    "        nflashes = 0\n",
    "        for i in range(1,11):\n",
    "            for j in range(1,11):\n",
    "                if (energy[i,j] > 9) & (flashed[i,j]==0):\n",
    "                    nflashes += 1\n",
    "                    flashed[i,j] = 1\n",
    "                    energy[i-1,j-1] += 1\n",
    "                    energy[i-1,j] += 1\n",
    "                    energy[i-1,j+1] += 1\n",
    "                    energy[i,j-1] += 1\n",
    "                    energy[i,j+1] += 1\n",
    "                    energy[i+1,j-1] += 1\n",
    "                    energy[i+1,j] += 1\n",
    "                    energy[i+1,j+1] += 1\n",
    "    for i in range(1,11):\n",
    "        for j in range(1,11):\n",
    "            if energy[i,j] > 9:\n",
    "                energy[i,j] = 0\n",
    "                flashes += 1\n",
    "\n",
    "print(flashes)"
   ]
  },
  {
   "cell_type": "code",
   "execution_count": 3,
   "id": "e24711a0",
   "metadata": {},
   "outputs": [
    {
     "name": "stdout",
     "output_type": "stream",
     "text": [
      "334\n"
     ]
    }
   ],
   "source": [
    "energy = np.pad(np.array([[int(j) for j in i] for i in day11.split('\\n')]),1)\n",
    "flashed = np.zeros((12,12))\n",
    "steps = 0\n",
    "\n",
    "while np.sum(flashed) < 100:\n",
    "    steps += 1\n",
    "    energy += 1\n",
    "    nflashes = 1\n",
    "    flashed = np.zeros((12,12))\n",
    "    while nflashes > 0:\n",
    "        nflashes = 0\n",
    "        for i in range(1,11):\n",
    "            for j in range(1,11):\n",
    "                if (energy[i,j] > 9) & (flashed[i,j]==0):\n",
    "                    nflashes += 1\n",
    "                    flashed[i,j] = 1\n",
    "                    energy[i-1,j-1] += 1\n",
    "                    energy[i-1,j] += 1\n",
    "                    energy[i-1,j+1] += 1\n",
    "                    energy[i,j-1] += 1\n",
    "                    energy[i,j+1] += 1\n",
    "                    energy[i+1,j-1] += 1\n",
    "                    energy[i+1,j] += 1\n",
    "                    energy[i+1,j+1] += 1\n",
    "    for i in range(1,11):\n",
    "        for j in range(1,11):\n",
    "            if energy[i,j] > 9:\n",
    "                energy[i,j] = 0\n",
    "print(steps)\n"
   ]
  },
  {
   "cell_type": "code",
   "execution_count": null,
   "id": "173a1807",
   "metadata": {},
   "outputs": [],
   "source": []
  }
 ],
 "metadata": {
  "kernelspec": {
   "display_name": "Python 3 (ipykernel)",
   "language": "python",
   "name": "python3"
  },
  "language_info": {
   "codemirror_mode": {
    "name": "ipython",
    "version": 3
   },
   "file_extension": ".py",
   "mimetype": "text/x-python",
   "name": "python",
   "nbconvert_exporter": "python",
   "pygments_lexer": "ipython3",
   "version": "3.9.7"
  }
 },
 "nbformat": 4,
 "nbformat_minor": 5
}
