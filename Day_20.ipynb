{
 "cells": [
  {
   "cell_type": "code",
   "execution_count": 69,
   "id": "dbaf5b8d",
   "metadata": {},
   "outputs": [],
   "source": [
    "from aocd import get_data\n",
    "import numpy as np\n",
    "import matplotlib.pyplot as plt\n",
    "\n",
    "day20 = get_data(day=20,year=2021)"
   ]
  },
  {
   "cell_type": "markdown",
   "id": "2850967b",
   "metadata": {},
   "source": [
    "Start with the example data"
   ]
  },
  {
   "cell_type": "code",
   "execution_count": 159,
   "id": "54132120",
   "metadata": {},
   "outputs": [],
   "source": [
    "algorithm = [int(i) for i in '..#.#..#####.#.#.#.###.##.....###.##.#..###.####..#####..#....#..#..##..###..######.###...####..#..#####..##..#.#####...##.#.#..#.##..#.#......#.###.######.###.####...#.##.##..#..#..#####.....#.#....###..#.##......#.....#..#..#..##..#...##.######.####.####.#.#...#.......#..#.#.#...####.##.#......#..#...##.#.##..#...##.#.##..###.#......#.#.......#.#.#.####.###.##...#.....####.#..#..#.##.#....##..#.####....##...##..#...#......#.#.......#.......##..####..#...#.#.#...##..#.#..###..#####........#..####......#..#'.replace('.','0').replace('#','1')]\n",
    "inimage = np.array([int(i) for i in '#..#.#....##..#..#....###'.replace('.','0').replace('#','1')]).reshape(5,5)\n",
    "inimage = np.pad(inimage,5,'constant',constant_values=0)"
   ]
  },
  {
   "cell_type": "code",
   "execution_count": 160,
   "id": "d219fbe6",
   "metadata": {},
   "outputs": [
    {
     "data": {
      "text/plain": [
       "<matplotlib.image.AxesImage at 0x158b2447b20>"
      ]
     },
     "execution_count": 160,
     "metadata": {},
     "output_type": "execute_result"
    },
    {
     "data": {
      "image/png": "[encoded data removed]",
      "text/plain": [
       "<Figure size 288x288 with 1 Axes>"
      ]
     },
     "metadata": {
      "needs_background": "light"
     },
     "output_type": "display_data"
    }
   ],
   "source": [
    "plt.matshow(inimage)"
   ]
  },
  {
   "cell_type": "code",
   "execution_count": 179,
   "id": "6bda21ea",
   "metadata": {},
   "outputs": [],
   "source": [
    "nsteps = 2\n",
    "image = inimage.copy()\n",
    "for step in range(nsteps):\n",
    "    outimage = image.copy()\n",
    "    for i in range(image.shape[0]):\n",
    "        for j in range(image.shape[1]):\n",
    "            if any([(i==0), (i==(image.shape[0]-1)), (j==0), (j==(image.shape[1]-1))]):\n",
    "                if image[i,j]==0:\n",
    "                    outimage[i,j] = algorithm[0]\n",
    "                else:\n",
    "                    outimage[i,j] = algorithm[-1]\n",
    "            else:\n",
    "                number = int(''.join([str(k) for k in image[i-1:i+2,j-1:j+2].flatten()]),base=2)\n",
    "                outimage[i,j] = algorithm[number]\n",
    "    image = outimage.copy()"
   ]
  },
  {
   "cell_type": "code",
   "execution_count": 180,
   "id": "e6ee2802",
   "metadata": {},
   "outputs": [
    {
     "data": {
      "text/plain": [
       "35"
      ]
     },
     "execution_count": 180,
     "metadata": {},
     "output_type": "execute_result"
    }
   ],
   "source": [
    "np.sum(image)"
   ]
  },
  {
   "cell_type": "code",
   "execution_count": 181,
   "id": "c7084459",
   "metadata": {},
   "outputs": [
    {
     "data": {
      "text/plain": [
       "<matplotlib.image.AxesImage at 0x158b261bc70>"
      ]
     },
     "execution_count": 181,
     "metadata": {},
     "output_type": "execute_result"
    },
    {
     "data": {
      "image/png": "[encoded data removed]",
      "text/plain": [
       "<Figure size 288x288 with 1 Axes>"
      ]
     },
     "metadata": {
      "needs_background": "light"
     },
     "output_type": "display_data"
    }
   ],
   "source": [
    "plt.matshow(image)"
   ]
  },
  {
   "cell_type": "markdown",
   "id": "f2825e94",
   "metadata": {},
   "source": [
    "Now try the actual data"
   ]
  },
  {
   "cell_type": "code",
   "execution_count": 186,
   "id": "c7207253",
   "metadata": {},
   "outputs": [],
   "source": [
    "algorithm = [int(i) for i in day20.replace('.','0').replace('#','1').split('\\n\\n')[0]]\n",
    "\n",
    "inimage = np.array([[int(j) for j in i] for i in day20.replace('.','0').replace('#','1').split('\\n\\n')[1].split('\\n')])\n",
    "inimage = np.pad(inimage,100,'constant',constant_values=0)"
   ]
  },
  {
   "cell_type": "code",
   "execution_count": 187,
   "id": "af2468dd",
   "metadata": {},
   "outputs": [
    {
     "data": {
      "text/plain": [
       "<matplotlib.image.AxesImage at 0x158b268f1c0>"
      ]
     },
     "execution_count": 187,
     "metadata": {},
     "output_type": "execute_result"
    },
    {
     "data": {
      "image/png": "[encoded data removed]",
      "text/plain": [
       "<Figure size 288x288 with 1 Axes>"
      ]
     },
     "metadata": {
      "needs_background": "light"
     },
     "output_type": "display_data"
    }
   ],
   "source": [
    "plt.matshow(inimage)"
   ]
  },
  {
   "cell_type": "code",
   "execution_count": 188,
   "id": "279a990b",
   "metadata": {},
   "outputs": [],
   "source": [
    "nsteps = 2\n",
    "image = inimage.copy()\n",
    "for step in range(nsteps):\n",
    "    outimage = image.copy()\n",
    "    for i in range(image.shape[0]):\n",
    "        for j in range(image.shape[1]):\n",
    "            if any([(i==0), (i==(image.shape[0]-1)), (j==0), (j==(image.shape[1]-1))]):\n",
    "                if image[i,j]==0:\n",
    "                    outimage[i,j] = algorithm[0]\n",
    "                else:\n",
    "                    outimage[i,j] = algorithm[-1]\n",
    "            else:\n",
    "                number = int(''.join([str(k) for k in image[i-1:i+2,j-1:j+2].flatten()]),base=2)\n",
    "                outimage[i,j] = algorithm[number]\n",
    "    image = outimage.copy()"
   ]
  },
  {
   "cell_type": "code",
   "execution_count": 189,
   "id": "0b3df2d8",
   "metadata": {},
   "outputs": [
    {
     "data": {
      "text/plain": [
       "<matplotlib.image.AxesImage at 0x158b26fd6d0>"
      ]
     },
     "execution_count": 189,
     "metadata": {},
     "output_type": "execute_result"
    },
    {
     "data": {
      "image/png": "[encoded data removed]",
      "text/plain": [
       "<Figure size 288x288 with 1 Axes>"
      ]
     },
     "metadata": {
      "needs_background": "light"
     },
     "output_type": "display_data"
    }
   ],
   "source": [
    "plt.matshow(image)"
   ]
  },
  {
   "cell_type": "code",
   "execution_count": 190,
   "id": "eab840db",
   "metadata": {},
   "outputs": [
    {
     "data": {
      "text/plain": [
       "5846"
      ]
     },
     "execution_count": 190,
     "metadata": {},
     "output_type": "execute_result"
    }
   ],
   "source": [
    "np.sum(image)"
   ]
  },
  {
   "cell_type": "markdown",
   "id": "35c76941",
   "metadata": {},
   "source": [
    "Got it! I hadn't accounted for the flipping at the edges."
   ]
  },
  {
   "cell_type": "markdown",
   "id": "4d909079",
   "metadata": {},
   "source": [
    "Try the example again"
   ]
  },
  {
   "cell_type": "code",
   "execution_count": 194,
   "id": "29b11655",
   "metadata": {},
   "outputs": [
    {
     "name": "stdout",
     "output_type": "stream",
     "text": [
      "3351\n"
     ]
    },
    {
     "data": {
      "text/plain": [
       "<matplotlib.image.AxesImage at 0x158b28c08b0>"
      ]
     },
     "execution_count": 194,
     "metadata": {},
     "output_type": "execute_result"
    },
    {
     "data": {
      "image/png": "[encoded data removed]",
      "text/plain": [
       "<Figure size 288x288 with 1 Axes>"
      ]
     },
     "metadata": {
      "needs_background": "light"
     },
     "output_type": "display_data"
    }
   ],
   "source": [
    "algorithm = [int(i) for i in '..#.#..#####.#.#.#.###.##.....###.##.#..###.####..#####..#....#..#..##..###..######.###...####..#..#####..##..#.#####...##.#.#..#.##..#.#......#.###.######.###.####...#.##.##..#..#..#####.....#.#....###..#.##......#.....#..#..#..##..#...##.######.####.####.#.#...#.......#..#.#.#...####.##.#......#..#...##.#.##..#...##.#.##..###.#......#.#.......#.#.#.####.###.##...#.....####.#..#..#.##.#....##..#.####....##...##..#...#......#.#.......#.......##..####..#...#.#.#...##..#.#..###..#####........#..####......#..#'.replace('.','0').replace('#','1')]\n",
    "inimage = np.array([int(i) for i in '#..#.#....##..#..#....###'.replace('.','0').replace('#','1')]).reshape(5,5)\n",
    "inimage = np.pad(inimage,55,'constant',constant_values=0)\n",
    "\n",
    "nsteps = 50\n",
    "image = inimage.copy()\n",
    "for step in range(nsteps):\n",
    "    outimage = image.copy()\n",
    "    for i in range(image.shape[0]):\n",
    "        for j in range(image.shape[1]):\n",
    "            if any([(i==0), (i==(image.shape[0]-1)), (j==0), (j==(image.shape[1]-1))]):\n",
    "                if image[i,j]==0:\n",
    "                    outimage[i,j] = algorithm[0]\n",
    "                else:\n",
    "                    outimage[i,j] = algorithm[-1]\n",
    "            else:\n",
    "                number = int(''.join([str(k) for k in image[i-1:i+2,j-1:j+2].flatten()]),base=2)\n",
    "                outimage[i,j] = algorithm[number]\n",
    "    image = outimage.copy()\n",
    "\n",
    "print(np.sum(image))\n",
    "plt.matshow(image)"
   ]
  },
  {
   "cell_type": "markdown",
   "id": "efc3b3b4",
   "metadata": {},
   "source": [
    "That worked! Now try the real data."
   ]
  },
  {
   "cell_type": "code",
   "execution_count": 195,
   "id": "7dfdcb3b",
   "metadata": {},
   "outputs": [
    {
     "name": "stdout",
     "output_type": "stream",
     "text": [
      "21149\n"
     ]
    },
    {
     "data": {
      "text/plain": [
       "<matplotlib.image.AxesImage at 0x158b2933100>"
      ]
     },
     "execution_count": 195,
     "metadata": {},
     "output_type": "execute_result"
    },
    {
     "data": {
      "image/png": "[encoded data removed]",
      "text/plain": [
       "<Figure size 288x288 with 1 Axes>"
      ]
     },
     "metadata": {
      "needs_background": "light"
     },
     "output_type": "display_data"
    }
   ],
   "source": [
    "algorithm = [int(i) for i in day20.replace('.','0').replace('#','1').split('\\n\\n')[0]]\n",
    "inimage = np.array([[int(j) for j in i] for i in day20.replace('.','0').replace('#','1').split('\\n\\n')[1].split('\\n')])\n",
    "inimage = np.pad(inimage,100,'constant',constant_values=0)\n",
    "\n",
    "nsteps = 50\n",
    "image = inimage.copy()\n",
    "for step in range(nsteps):\n",
    "    outimage = image.copy()\n",
    "    for i in range(image.shape[0]):\n",
    "        for j in range(image.shape[1]):\n",
    "            if any([(i==0), (i==(image.shape[0]-1)), (j==0), (j==(image.shape[1]-1))]):\n",
    "                if image[i,j]==0:\n",
    "                    outimage[i,j] = algorithm[0]\n",
    "                else:\n",
    "                    outimage[i,j] = algorithm[-1]\n",
    "            else:\n",
    "                number = int(''.join([str(k) for k in image[i-1:i+2,j-1:j+2].flatten()]),base=2)\n",
    "                outimage[i,j] = algorithm[number]\n",
    "    image = outimage.copy()\n",
    "\n",
    "print(np.sum(image))\n",
    "plt.matshow(image)"
   ]
  },
  {
   "cell_type": "markdown",
   "id": "a6ec2bd2",
   "metadata": {},
   "source": [
    "Done!"
   ]
  }
 ],
 "metadata": {
  "kernelspec": {
   "display_name": "Python 3 (ipykernel)",
   "language": "python",
   "name": "python3"
  },
  "language_info": {
   "codemirror_mode": {
    "name": "ipython",
    "version": 3
   },
   "file_extension": ".py",
   "mimetype": "text/x-python",
   "name": "python",
   "nbconvert_exporter": "python",
   "pygments_lexer": "ipython3",
   "version": "3.9.7"
  }
 },
 "nbformat": 4,
 "nbformat_minor": 5
}
