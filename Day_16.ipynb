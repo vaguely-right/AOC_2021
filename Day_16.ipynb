{
 "cells": [
  {
   "cell_type": "code",
   "execution_count": 1,
   "id": "4f6edb97",
   "metadata": {},
   "outputs": [],
   "source": [
    "from aocd import get_data\n",
    "import numpy as np\n",
    "\n",
    "day16 = get_data(day=16,year=2021)"
   ]
  },
  {
   "cell_type": "markdown",
   "id": "46a27653",
   "metadata": {},
   "source": [
    "This seems to require a function that can call itself."
   ]
  },
  {
   "cell_type": "code",
   "execution_count": 7,
   "id": "3afbf0b5",
   "metadata": {},
   "outputs": [],
   "source": [
    "def read_packet(bits):\n",
    "    n = 0\n",
    "    version = int(bits[n:n+3],base=2)\n",
    "    versions.append(version)\n",
    "    typeid = int(bits[n+3:n+6],base=2)\n",
    "#    print('Version ',version,' Type ID ',typeid)\n",
    "    n += 6\n",
    "    if typeid==4:\n",
    "        literal = ''\n",
    "        leading = int(bits[n:n+1],base=2)\n",
    "        literal += bits[n+1:n+5]\n",
    "        n += 5\n",
    "        while leading == 1:\n",
    "            leading = int(bits[n:n+1],base=2)\n",
    "            literal += bits[n+1:n+5]\n",
    "            n += 5\n",
    "#        print('Literal value ',int(literal,base=2),', packet length',n)\n",
    "        return n\n",
    "    else:\n",
    "        lengthtypeid = int(bits[n:n+1],base=2)\n",
    "        n += 1\n",
    "        if lengthtypeid == 0:\n",
    "            sublength = int(bits[n:n+15],base=2)\n",
    "#            print('Operator with ',sublength,' bits of subpackets')\n",
    "            n += 15\n",
    "            l = 0\n",
    "            while l < sublength:\n",
    "                l += read_packet(bits[n+l:])\n",
    "            n += l\n",
    "        else:\n",
    "            nsubpackets = int(bits[n:n+11],base=2)\n",
    "#            print('Operator with ',nsubpackets,' subpackets')\n",
    "            n += 11                \n",
    "            for i in range(nsubpackets):\n",
    "                n += read_packet(bits[n:])\n",
    "    return n\n",
    "        "
   ]
  },
  {
   "cell_type": "code",
   "execution_count": 8,
   "id": "ea55b1f7",
   "metadata": {},
   "outputs": [
    {
     "name": "stdout",
     "output_type": "stream",
     "text": [
      "16\n"
     ]
    }
   ],
   "source": [
    "bits = ''\n",
    "for i in '8A004A801A8002F478':\n",
    "    bits += bin(int(i,base=16))[2:].zfill(4)\n",
    "\n",
    "versions = []\n",
    "read_packet(bits)\n",
    "print(np.sum(versions))"
   ]
  },
  {
   "cell_type": "code",
   "execution_count": 9,
   "id": "aac1991f",
   "metadata": {},
   "outputs": [
    {
     "name": "stdout",
     "output_type": "stream",
     "text": [
      "854\n"
     ]
    }
   ],
   "source": [
    "bits = ''\n",
    "for i in day16:\n",
    "    bits += bin(int(i,base=16))[2:].zfill(4)\n",
    "\n",
    "\n",
    "versions = []\n",
    "read_packet(bits)\n",
    "print(np.sum(versions))"
   ]
  },
  {
   "cell_type": "markdown",
   "id": "a669caf2",
   "metadata": {},
   "source": [
    "Got it!"
   ]
  },
  {
   "cell_type": "code",
   "execution_count": 95,
   "id": "66705b5c",
   "metadata": {},
   "outputs": [],
   "source": [
    "def read_packet(bits):\n",
    "    n = 0\n",
    "    version = int(bits[n:n+3],base=2)\n",
    "    typeid = int(bits[n+3:n+6],base=2)\n",
    "    n += 6\n",
    "    if typeid==4:\n",
    "        literal = ''\n",
    "        leading = int(bits[n:n+1],base=2)\n",
    "        literal += bits[n+1:n+5]\n",
    "        n += 5\n",
    "        while leading == 1:\n",
    "            leading = int(bits[n:n+1],base=2)\n",
    "            literal += bits[n+1:n+5]\n",
    "            n += 5\n",
    "        ops.append(str(int(literal,base=2)))\n",
    "        ops.append(',')\n",
    "        return n\n",
    "    else:\n",
    "        if typeid == 0:\n",
    "            ops.append('np.sum([')\n",
    "        elif typeid == 1:\n",
    "            ops.append('np.product([')\n",
    "        elif typeid == 2:\n",
    "            ops.append('np.min([')\n",
    "        elif typeid == 3:\n",
    "            ops.append('np.max([')\n",
    "        elif typeid == 5:\n",
    "            ops.append('np.greater(')\n",
    "        elif typeid == 6:\n",
    "            ops.append('np.less(')\n",
    "        elif typeid == 7:\n",
    "            ops.append('np.equal(')\n",
    "        lengthtypeid = int(bits[n:n+1],base=2)\n",
    "        n += 1\n",
    "        if lengthtypeid == 0:\n",
    "            sublength = int(bits[n:n+15],base=2)\n",
    "            n += 15\n",
    "            l = 0\n",
    "            while l < sublength:\n",
    "                l += read_packet(bits[n+l:])\n",
    "                ops.append(',')\n",
    "            n += l\n",
    "        else:\n",
    "            nsubpackets = int(bits[n:n+11],base=2)\n",
    "            n += 11                \n",
    "            for i in range(nsubpackets):\n",
    "                n += read_packet(bits[n:])\n",
    "                ops.append(',')\n",
    "        if typeid < 4:\n",
    "            ops.append(']')\n",
    "        ops.append(')')\n",
    "    return n\n",
    "        "
   ]
  },
  {
   "cell_type": "code",
   "execution_count": 98,
   "id": "f87dd3c1",
   "metadata": {},
   "outputs": [
    {
     "data": {
      "text/plain": [
       "55"
      ]
     },
     "execution_count": 98,
     "metadata": {},
     "output_type": "execute_result"
    }
   ],
   "source": [
    "bits = ''\n",
    "for i in '880086C3E88112':\n",
    "    bits += bin(int(i,base=16))[2:].zfill(4)\n",
    "\n",
    "ops = []\n",
    "read_packet(bits)\n"
   ]
  },
  {
   "cell_type": "code",
   "execution_count": 99,
   "id": "08dcc913",
   "metadata": {},
   "outputs": [
    {
     "data": {
      "text/plain": [
       "7"
      ]
     },
     "execution_count": 99,
     "metadata": {},
     "output_type": "execute_result"
    }
   ],
   "source": [
    "eval(''.join(ops).replace(',,',',').replace(',]',']').replace(',)',')'))"
   ]
  },
  {
   "cell_type": "code",
   "execution_count": 100,
   "id": "c101657b",
   "metadata": {},
   "outputs": [
    {
     "name": "stdout",
     "output_type": "stream",
     "text": [
      "181894873364\n"
     ]
    }
   ],
   "source": [
    "bits = ''\n",
    "for i in day16:\n",
    "    bits += bin(int(i,base=16))[2:].zfill(4)\n",
    "\n",
    "ops = []\n",
    "read_packet(bits)   \n",
    "print(eval(''.join(ops).replace(',,',',').replace(',]',']').replace(',)',')')))"
   ]
  },
  {
   "cell_type": "code",
   "execution_count": 101,
   "id": "42dd8a46",
   "metadata": {},
   "outputs": [
    {
     "data": {
      "text/plain": [
       "'np.sum([np.product([9,np.less(90,258)]),np.max([14,2]),np.min([15083,4,10]),np.min([46486,946644]),47731,np.product([86,167,76,41,75]),np.product([902426,np.less(5448597,5448597)]),12,3150483273,46921,1756,np.product([3098,np.equal(241,11104915)]),np.product([np.greater(2338,2338),185954532]),np.product([105,146,64,124]),1619,np.product([183,np.less(440674,103)]),np.max([6937079,92140,209,592]),np.max([np.product([np.min([np.min([np.max([np.sum([np.max([np.product([np.max([np.sum([np.min([np.sum([np.sum([np.min([np.max([np.sum([np.max([np.product([np.min([np.min([5056208039])])])])])])])])])])])])])])])])])])])]),455,256083,np.sum([np.product([9,6,4]),np.product([14,4,8]),np.product([5,3,12])]),np.min([11,208,70,1647,130]),np.product([3586,np.greater(np.sum([14,2,7]),np.sum([5,6,3]))]),np.product([1045,np.equal(7539326,139)]),np.product([28505,np.less(1344,46)]),np.product([np.equal(310846,310846),55133606844]),2158747088,np.max([50614281761]),np.product([44]),np.product([np.sum([10,15,9]),np.sum([8,10,11]),np.sum([8,7,9])]),np.product([40917,np.less(206,206)]),np.product([152,np.greater(664377,115979877)]),np.product([140,np.less(np.sum([10,14,15]),np.sum([13,6,7]))]),np.sum([3,204,122]),np.max([277,62608,143,3234,3179]),np.min([188615,4835,64264,685172]),np.product([np.greater(np.sum([9,11,15]),np.sum([9,7,10])),7877750]),np.product([22,np.equal(np.sum([15,15,4]),np.sum([11,9,12]))]),np.product([np.greater(31223,31223),126]),np.max([139455,2126,1316140047]),np.sum([57417,5]),np.product([np.greater(2997,24470),177]),13,np.product([97,128]),np.sum([85,37726,178,7,277352178]),np.product([3851,np.greater(233881589634,2158)]),np.sum([15]),np.product([8,np.less(6,2589)]),np.product([np.greater(3811248452,33),64983444992]),np.product([np.less(np.sum([3,2,4]),np.sum([6,15,5])),78]),np.sum([1842,372,5732528,1]),np.min([17588]),np.product([22,202,77])])'"
      ]
     },
     "execution_count": 101,
     "metadata": {},
     "output_type": "execute_result"
    }
   ],
   "source": [
    "''.join(ops).replace(',,',',').replace(',]',']').replace(',)',')')"
   ]
  },
  {
   "cell_type": "code",
   "execution_count": 85,
   "id": "9477e768",
   "metadata": {},
   "outputs": [
    {
     "data": {
      "text/plain": [
       "'np.equal(np.sum([1,,3,,]),np.product([2,,2,,]),)'"
      ]
     },
     "execution_count": 85,
     "metadata": {},
     "output_type": "execute_result"
    }
   ],
   "source": [
    "''.join(ops)"
   ]
  },
  {
   "cell_type": "code",
   "execution_count": null,
   "id": "7ddf1678",
   "metadata": {},
   "outputs": [],
   "source": []
  }
 ],
 "metadata": {
  "kernelspec": {
   "display_name": "Python 3 (ipykernel)",
   "language": "python",
   "name": "python3"
  },
  "language_info": {
   "codemirror_mode": {
    "name": "ipython",
    "version": 3
   },
   "file_extension": ".py",
   "mimetype": "text/x-python",
   "name": "python",
   "nbconvert_exporter": "python",
   "pygments_lexer": "ipython3",
   "version": "3.9.7"
  }
 },
 "nbformat": 4,
 "nbformat_minor": 5
}
