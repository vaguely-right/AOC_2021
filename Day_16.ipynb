{
 "cells": [
  {
   "cell_type": "code",
   "execution_count": 1,
   "id": "4f6edb97",
   "metadata": {},
   "outputs": [],
   "source": [
    "from aocd import get_data\n",
    "import numpy as np\n",
    "\n",
    "day16 = get_data(day=16,year=2021)"
   ]
  },
  {
   "cell_type": "markdown",
   "id": "46a27653",
   "metadata": {},
   "source": [
    "This seems to require a function that can call itself."
   ]
  },
  {
   "cell_type": "code",
   "execution_count": 2,
   "id": "3afbf0b5",
   "metadata": {},
   "outputs": [],
   "source": [
    "def read_packet(bits):\n",
    "    n = 0\n",
    "    version = int(bits[n:n+3],base=2)\n",
    "    versions.append(version)\n",
    "    typeid = int(bits[n+3:n+6],base=2)\n",
    "#    print('Version ',version,' Type ID ',typeid)\n",
    "    n += 6\n",
    "    if typeid==4:\n",
    "        literal = ''\n",
    "        leading = int(bits[n:n+1],base=2)\n",
    "        literal += bits[n+1:n+5]\n",
    "        n += 5\n",
    "        while leading == 1:\n",
    "            leading = int(bits[n:n+1],base=2)\n",
    "            literal += bits[n+1:n+5]\n",
    "            n += 5\n",
    "#        print('Literal value ',int(literal,base=2),', packet length',n)\n",
    "        return n\n",
    "    else:\n",
    "        lengthtypeid = int(bits[n:n+1],base=2)\n",
    "        n += 1\n",
    "        if lengthtypeid == 0:\n",
    "            sublength = int(bits[n:n+15],base=2)\n",
    "#            print('Operator with ',sublength,' bits of subpackets')\n",
    "            n += 15\n",
    "            l = 0\n",
    "            while l < sublength:\n",
    "                l += read_packet(bits[n+l:])\n",
    "            n += l\n",
    "        else:\n",
    "            nsubpackets = int(bits[n:n+11],base=2)\n",
    "#            print('Operator with ',nsubpackets,' subpackets')\n",
    "            n += 11                \n",
    "            for i in range(nsubpackets):\n",
    "                n += read_packet(bits[n:])\n",
    "    return n\n",
    "        "
   ]
  },
  {
   "cell_type": "code",
   "execution_count": 3,
   "id": "ea55b1f7",
   "metadata": {},
   "outputs": [
    {
     "name": "stdout",
     "output_type": "stream",
     "text": [
      "16\n"
     ]
    }
   ],
   "source": [
    "bits = ''\n",
    "for i in '8A004A801A8002F478':\n",
    "    bits += bin(int(i,base=16))[2:].zfill(4)\n",
    "\n",
    "versions = []\n",
    "read_packet(bits)\n",
    "print(np.sum(versions))"
   ]
  },
  {
   "cell_type": "code",
   "execution_count": 4,
   "id": "aac1991f",
   "metadata": {},
   "outputs": [
    {
     "name": "stdout",
     "output_type": "stream",
     "text": [
      "854\n"
     ]
    }
   ],
   "source": [
    "bits = ''\n",
    "for i in day16:\n",
    "    bits += bin(int(i,base=16))[2:].zfill(4)\n",
    "\n",
    "\n",
    "versions = []\n",
    "read_packet(bits)\n",
    "print(np.sum(versions))"
   ]
  },
  {
   "cell_type": "markdown",
   "id": "a669caf2",
   "metadata": {},
   "source": [
    "Got it!"
   ]
  },
  {
   "cell_type": "code",
   "execution_count": 17,
   "id": "66705b5c",
   "metadata": {},
   "outputs": [],
   "source": [
    "def read_packet(bits):\n",
    "    n = 0\n",
    "    version = int(bits[n:n+3],base=2)\n",
    "    typeid = int(bits[n+3:n+6],base=2)\n",
    "    n += 6\n",
    "    if typeid==4:\n",
    "        literal = ''\n",
    "        leading = int(bits[n:n+1],base=2)\n",
    "        literal += bits[n+1:n+5]\n",
    "        n += 5\n",
    "        while leading == 1:\n",
    "            leading = int(bits[n:n+1],base=2)\n",
    "            literal += bits[n+1:n+5]\n",
    "            n += 5\n",
    "        ops.append(str(int(literal,base=2)))\n",
    "        ops.append(',')\n",
    "        return n\n",
    "    else:\n",
    "        if typeid == 0:\n",
    "            ops.append('np.sum([')\n",
    "        elif typeid == 1:\n",
    "            ops.append('np.product([')\n",
    "        elif typeid == 2:\n",
    "            ops.append('1*np.min([')\n",
    "        elif typeid == 3:\n",
    "            ops.append('1*np.max([')\n",
    "        elif typeid == 5:\n",
    "            ops.append('1*np.greater(')\n",
    "        elif typeid == 6:\n",
    "            ops.append('1*np.less(')\n",
    "        elif typeid == 7:\n",
    "            ops.append('1*np.equal(')\n",
    "        lengthtypeid = int(bits[n:n+1],base=2)\n",
    "        n += 1\n",
    "        if lengthtypeid == 0:\n",
    "            sublength = int(bits[n:n+15],base=2)\n",
    "            n += 15\n",
    "            l = 0\n",
    "            while l < sublength:\n",
    "                l += read_packet(bits[n+l:])\n",
    "                ops.append(',')\n",
    "            n += l\n",
    "        else:\n",
    "            nsubpackets = int(bits[n:n+11],base=2)\n",
    "            n += 11                \n",
    "            for i in range(nsubpackets):\n",
    "                n += read_packet(bits[n:])\n",
    "                ops.append(',')\n",
    "        if typeid < 4:\n",
    "            ops.append(']')\n",
    "        ops.append(')')\n",
    "    return n\n",
    "        "
   ]
  },
  {
   "cell_type": "code",
   "execution_count": 18,
   "id": "f87dd3c1",
   "metadata": {},
   "outputs": [
    {
     "data": {
      "text/plain": [
       "55"
      ]
     },
     "execution_count": 18,
     "metadata": {},
     "output_type": "execute_result"
    }
   ],
   "source": [
    "bits = ''\n",
    "for i in '880086C3E88112':\n",
    "    bits += bin(int(i,base=16))[2:].zfill(4)\n",
    "\n",
    "ops = []\n",
    "read_packet(bits)\n"
   ]
  },
  {
   "cell_type": "code",
   "execution_count": 19,
   "id": "08dcc913",
   "metadata": {},
   "outputs": [
    {
     "data": {
      "text/plain": [
       "7"
      ]
     },
     "execution_count": 19,
     "metadata": {},
     "output_type": "execute_result"
    }
   ],
   "source": [
    "eval(''.join(ops).replace(',,',',').replace(',]',']').replace(',)',')'))"
   ]
  },
  {
   "cell_type": "code",
   "execution_count": 20,
   "id": "c101657b",
   "metadata": {},
   "outputs": [
    {
     "name": "stdout",
     "output_type": "stream",
     "text": [
      "181894873364\n"
     ]
    }
   ],
   "source": [
    "bits = ''\n",
    "for i in day16:\n",
    "    bits += bin(int(i,base=16))[2:].zfill(4)\n",
    "\n",
    "ops = []\n",
    "read_packet(bits)   \n",
    "print(eval(''.join(ops).replace(',,',',').replace(',]',']').replace(',)',')')))"
   ]
  },
  {
   "cell_type": "markdown",
   "id": "5860295b",
   "metadata": {},
   "source": [
    "Not working; try a different approach."
   ]
  },
  {
   "cell_type": "code",
   "execution_count": 22,
   "id": "42dd8a46",
   "metadata": {},
   "outputs": [],
   "source": [
    "def read_packet(bits):\n",
    "    n = 0\n",
    "    version = int(bits[n:n+3],base=2)\n",
    "    typeid = int(bits[n+3:n+6],base=2)\n",
    "    n += 6\n",
    "    if typeid==4:\n",
    "        literal = ''\n",
    "        leading = int(bits[n:n+1],base=2)\n",
    "        literal += bits[n+1:n+5]\n",
    "        n += 5\n",
    "        while leading == 1:\n",
    "            leading = int(bits[n:n+1],base=2)\n",
    "            literal += bits[n+1:n+5]\n",
    "            n += 5\n",
    "        return n,int(literal,base=2)\n",
    "    else:\n",
    "        lengthtypeid = int(bits[n:n+1],base=2)\n",
    "        n += 1\n",
    "        subvalues = []\n",
    "        if lengthtypeid == 0:\n",
    "            sublength = int(bits[n:n+15],base=2)\n",
    "            n += 15\n",
    "            l = 0\n",
    "            while l < sublength:\n",
    "                m,v = read_packet(bits[n+l:])\n",
    "                l += m\n",
    "                subvalues.append(v)\n",
    "            n += l\n",
    "        else:\n",
    "            nsubpackets = int(bits[n:n+11],base=2)\n",
    "            n += 11                \n",
    "            for i in range(nsubpackets):\n",
    "                m,v = read_packet(bits[n:])\n",
    "                n += m\n",
    "                subvalues.append(v)\n",
    "        if typeid == 0:\n",
    "            return n,np.sum(subvalues)\n",
    "        elif typeid == 1:\n",
    "            return n,np.product(subvalues)\n",
    "        elif typeid == 2:\n",
    "            return n,np.min(subvalues)\n",
    "        elif typeid == 3:\n",
    "            return n,np.max(subvalues)\n",
    "        elif typeid == 5:\n",
    "            return n,np.greater(subvalues[0],subvalues[1])*1\n",
    "        elif typeid == 6:\n",
    "            return n,np.less(subvalues[0],subvalues[1])*1\n",
    "        elif typeid == 7:\n",
    "            return n,np.equal(subvalues[0],subvalues[1])*1\n",
    "        "
   ]
  },
  {
   "cell_type": "code",
   "execution_count": 23,
   "id": "b5997a23",
   "metadata": {},
   "outputs": [
    {
     "data": {
      "text/plain": [
       "(102, 1)"
      ]
     },
     "execution_count": 23,
     "metadata": {},
     "output_type": "execute_result"
    }
   ],
   "source": [
    "bits = ''\n",
    "for i in '9C0141080250320F1802104A08':\n",
    "    bits += bin(int(i,base=16))[2:].zfill(4)\n",
    "\n",
    "read_packet(bits)"
   ]
  },
  {
   "cell_type": "code",
   "execution_count": 24,
   "id": "9477e768",
   "metadata": {},
   "outputs": [
    {
     "data": {
      "text/plain": [
       "(5332, 181894873364)"
      ]
     },
     "execution_count": 24,
     "metadata": {},
     "output_type": "execute_result"
    }
   ],
   "source": [
    "bits = ''\n",
    "for i in day16:\n",
    "    bits += bin(int(i,base=16))[2:].zfill(4)\n",
    "\n",
    "read_packet(bits)"
   ]
  },
  {
   "cell_type": "markdown",
   "id": "e4f6d1c8",
   "metadata": {},
   "source": [
    "I got the exact same answer, so the coding approach wasn't the problem."
   ]
  },
  {
   "cell_type": "code",
   "execution_count": null,
   "id": "d8154e7f",
   "metadata": {},
   "outputs": [],
   "source": []
  }
 ],
 "metadata": {
  "kernelspec": {
   "display_name": "Python 3 (ipykernel)",
   "language": "python",
   "name": "python3"
  },
  "language_info": {
   "codemirror_mode": {
    "name": "ipython",
    "version": 3
   },
   "file_extension": ".py",
   "mimetype": "text/x-python",
   "name": "python",
   "nbconvert_exporter": "python",
   "pygments_lexer": "ipython3",
   "version": "3.9.7"
  }
 },
 "nbformat": 4,
 "nbformat_minor": 5
}
