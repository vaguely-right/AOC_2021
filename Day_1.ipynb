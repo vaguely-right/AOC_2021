{
 "cells": [
  {
   "cell_type": "markdown",
   "id": "b4862e20",
   "metadata": {},
   "source": [
    "Import the aocd package to get the data, and read in the first day."
   ]
  },
  {
   "cell_type": "code",
   "execution_count": 2,
   "id": "0b920cdb",
   "metadata": {},
   "outputs": [
    {
     "name": "stdout",
     "output_type": "stream",
     "text": [
      "[156, 153, 163, 168, 166, 164, 149, 187, 192, 194]\n"
     ]
    }
   ],
   "source": [
    "from aocd import get_data\n",
    "\n",
    "day1 = [int(i) for i in get_data(day=1,year=2021).split()]\n",
    "\n",
    "print(day1[0:10])"
   ]
  },
  {
   "cell_type": "markdown",
   "id": "3323ce53",
   "metadata": {},
   "source": [
    "Now that the data is working, calculate the number of increases."
   ]
  },
  {
   "cell_type": "code",
   "execution_count": 3,
   "id": "c0d6eb95",
   "metadata": {},
   "outputs": [
    {
     "data": {
      "text/plain": [
       "1233"
      ]
     },
     "execution_count": 3,
     "metadata": {},
     "output_type": "execute_result"
    }
   ],
   "source": [
    "sum(x>y for x,y in zip(day1[1:],day1[:-1]))"
   ]
  },
  {
   "cell_type": "markdown",
   "id": "b1bfe66c",
   "metadata": {},
   "source": [
    "The task for part 2 seems like it would be very easy to do in Pandas; make a dataframe."
   ]
  },
  {
   "cell_type": "code",
   "execution_count": 4,
   "id": "97ff81c9",
   "metadata": {},
   "outputs": [
    {
     "data": {
      "text/plain": [
       "0    1233\n",
       "dtype: int64"
      ]
     },
     "execution_count": 4,
     "metadata": {},
     "output_type": "execute_result"
    }
   ],
   "source": [
    "import pandas as pd\n",
    "\n",
    "df = pd.DataFrame(day1)\n",
    "\n",
    "df.diff().gt(0).sum()"
   ]
  },
  {
   "cell_type": "markdown",
   "id": "7583689c",
   "metadata": {},
   "source": [
    "That works; calculate the increases using rolling windows of length 3."
   ]
  },
  {
   "cell_type": "code",
   "execution_count": 5,
   "id": "f67e7793",
   "metadata": {},
   "outputs": [
    {
     "data": {
      "text/plain": [
       "0    1275\n",
       "dtype: int64"
      ]
     },
     "execution_count": 5,
     "metadata": {},
     "output_type": "execute_result"
    }
   ],
   "source": [
    "df.rolling(3).sum().diff().gt(0).sum()"
   ]
  },
  {
   "cell_type": "markdown",
   "id": "db7b848b",
   "metadata": {},
   "source": [
    "That's the answer for the second part!"
   ]
  }
 ],
 "metadata": {
  "kernelspec": {
   "display_name": "Python 3 (ipykernel)",
   "language": "python",
   "name": "python3"
  },
  "language_info": {
   "codemirror_mode": {
    "name": "ipython",
    "version": 3
   },
   "file_extension": ".py",
   "mimetype": "text/x-python",
   "name": "python",
   "nbconvert_exporter": "python",
   "pygments_lexer": "ipython3",
   "version": "3.9.7"
  }
 },
 "nbformat": 4,
 "nbformat_minor": 5
}
