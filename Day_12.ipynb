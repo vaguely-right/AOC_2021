{
 "cells": [
  {
   "cell_type": "code",
   "execution_count": 1,
   "id": "d2aa5588",
   "metadata": {},
   "outputs": [],
   "source": [
    "from aocd import get_data\n",
    "import numpy as np\n",
    "\n",
    "day12 = get_data(day=12,year=2021)"
   ]
  },
  {
   "cell_type": "code",
   "execution_count": 2,
   "id": "40f3d64c",
   "metadata": {},
   "outputs": [
    {
     "data": {
      "text/plain": [
       "'pq-GX\\nGX-ah\\nmj-PI\\ney-start\\nend-PI\\nYV-mj\\nah-iw\\nte-GX\\nte-mj\\nZM-iw\\nte-PI\\nah-ZM\\ney-te\\nZM-end\\nend-mj\\nte-iw\\nte-vc\\nPI-pq\\nPI-start\\npq-ey\\nPI-iw\\nah-ey\\npq-iw\\npq-start\\nmj-GX'"
      ]
     },
     "execution_count": 2,
     "metadata": {},
     "output_type": "execute_result"
    }
   ],
   "source": [
    "day12"
   ]
  },
  {
   "cell_type": "code",
   "execution_count": 3,
   "id": "deedcbbe",
   "metadata": {},
   "outputs": [],
   "source": [
    "caves = {}\n",
    "for cave in [i.split('-') for i in day12.split('\\n')]:\n",
    "    for j in range(2):\n",
    "        caves.setdefault(cave[j],[]).append(cave[j-1])"
   ]
  },
  {
   "cell_type": "markdown",
   "id": "8e0daf73",
   "metadata": {},
   "source": [
    "I'm pretty lost here. Trying to follow the code from https://github.com/Bruception/advent-of-code-2021/blob/main/day12/part1.py among many, many others. Making edits as I figure out what's going on, to break it down an understand myself."
   ]
  },
  {
   "cell_type": "code",
   "execution_count": 4,
   "id": "f374764b",
   "metadata": {},
   "outputs": [
    {
     "data": {
      "text/plain": [
       "{'pq': ['GX', 'PI', 'ey', 'iw', 'start'],\n",
       " 'GX': ['pq', 'ah', 'te', 'mj'],\n",
       " 'ah': ['GX', 'iw', 'ZM', 'ey'],\n",
       " 'mj': ['PI', 'YV', 'te', 'end', 'GX'],\n",
       " 'PI': ['mj', 'end', 'te', 'pq', 'start', 'iw'],\n",
       " 'ey': ['start', 'te', 'pq', 'ah'],\n",
       " 'start': ['ey', 'PI', 'pq'],\n",
       " 'end': ['PI', 'ZM', 'mj'],\n",
       " 'YV': ['mj'],\n",
       " 'iw': ['ah', 'ZM', 'te', 'PI', 'pq'],\n",
       " 'te': ['GX', 'mj', 'PI', 'ey', 'iw', 'vc'],\n",
       " 'ZM': ['iw', 'ah', 'end'],\n",
       " 'vc': ['te']}"
      ]
     },
     "execution_count": 4,
     "metadata": {},
     "output_type": "execute_result"
    }
   ],
   "source": [
    "caves"
   ]
  },
  {
   "cell_type": "code",
   "execution_count": 5,
   "id": "4a7e24c3",
   "metadata": {},
   "outputs": [],
   "source": [
    "def find_paths(current, visited):\n",
    "    if (current in visited):\n",
    "        return 0\n",
    "\n",
    "    if (current == 'end'):\n",
    "        return 1\n",
    "    \n",
    "    if (current.islower()):\n",
    "        visited.add(current)\n",
    "\n",
    "    total_paths = 0\n",
    "\n",
    "    for neighbor in caves[current]:\n",
    "        total_paths += find_paths(neighbor, visited)\n",
    "    \n",
    "    visited.discard(current)\n",
    "    \n",
    "    return total_paths\n"
   ]
  },
  {
   "cell_type": "code",
   "execution_count": 6,
   "id": "8016843f",
   "metadata": {},
   "outputs": [
    {
     "data": {
      "text/plain": [
       "5333"
      ]
     },
     "execution_count": 6,
     "metadata": {},
     "output_type": "execute_result"
    }
   ],
   "source": [
    "find_paths('start',set())"
   ]
  },
  {
   "cell_type": "markdown",
   "id": "d9a0bd3a",
   "metadata": {},
   "source": [
    "That worked and I have literally no clue why."
   ]
  },
  {
   "cell_type": "code",
   "execution_count": 11,
   "id": "f95f62cd",
   "metadata": {},
   "outputs": [],
   "source": [
    "def find_paths(current, visited, twice):\n",
    "\n",
    "    if (current == 'end'):\n",
    "        return 1    \n",
    "    \n",
    "    if (visited[current] > 0) & twice:\n",
    "        return 0   \n",
    "        \n",
    "    if (current.islower()):\n",
    "        visited[current] += 1\n",
    "        twice |= visited[current]==2\n",
    "        \n",
    "    total_paths = 0\n",
    "\n",
    "    for neighbor in caves[current]:\n",
    "        if neighbor != 'start':\n",
    "            total_paths += find_paths(neighbor, visited, twice)\n",
    "    \n",
    "    visited[current] -= 1\n",
    "    \n",
    "    return total_paths"
   ]
  },
  {
   "cell_type": "code",
   "execution_count": 12,
   "id": "03f663bf",
   "metadata": {},
   "outputs": [
    {
     "data": {
      "text/plain": [
       "146553"
      ]
     },
     "execution_count": 12,
     "metadata": {},
     "output_type": "execute_result"
    }
   ],
   "source": [
    "from collections import defaultdict\n",
    "find_paths('start',defaultdict(int),False)"
   ]
  },
  {
   "cell_type": "markdown",
   "id": "9c6a794c",
   "metadata": {},
   "source": [
    "I've stared at this for a long time and can't figure out how it actually works."
   ]
  }
 ],
 "metadata": {
  "kernelspec": {
   "display_name": "Python 3 (ipykernel)",
   "language": "python",
   "name": "python3"
  },
  "language_info": {
   "codemirror_mode": {
    "name": "ipython",
    "version": 3
   },
   "file_extension": ".py",
   "mimetype": "text/x-python",
   "name": "python",
   "nbconvert_exporter": "python",
   "pygments_lexer": "ipython3",
   "version": "3.9.7"
  }
 },
 "nbformat": 4,
 "nbformat_minor": 5
}
