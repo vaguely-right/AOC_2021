{
 "cells": [
  {
   "cell_type": "code",
   "execution_count": 296,
   "id": "e5b31ce7",
   "metadata": {},
   "outputs": [],
   "source": [
    "from aocd import get_data\n",
    "import numpy as np\n",
    "from scipy.spatial import distance_matrix\n",
    "from sklearn.linear_model import LinearRegression\n",
    "\n",
    "day19 = get_data(day=19,year=2021)"
   ]
  },
  {
   "cell_type": "code",
   "execution_count": 297,
   "id": "dd05b40b",
   "metadata": {},
   "outputs": [],
   "source": [
    "test = '''--- scanner 0 ---\n",
    "404,-588,-901\n",
    "528,-643,409\n",
    "-838,591,734\n",
    "390,-675,-793\n",
    "-537,-823,-458\n",
    "-485,-357,347\n",
    "-345,-311,381\n",
    "-661,-816,-575\n",
    "-876,649,763\n",
    "-618,-824,-621\n",
    "553,345,-567\n",
    "474,580,667\n",
    "-447,-329,318\n",
    "-584,868,-557\n",
    "544,-627,-890\n",
    "564,392,-477\n",
    "455,729,728\n",
    "-892,524,684\n",
    "-689,845,-530\n",
    "423,-701,434\n",
    "7,-33,-71\n",
    "630,319,-379\n",
    "443,580,662\n",
    "-789,900,-551\n",
    "459,-707,401\n",
    "\n",
    "--- scanner 1 ---\n",
    "686,422,578\n",
    "605,423,415\n",
    "515,917,-361\n",
    "-336,658,858\n",
    "95,138,22\n",
    "-476,619,847\n",
    "-340,-569,-846\n",
    "567,-361,727\n",
    "-460,603,-452\n",
    "669,-402,600\n",
    "729,430,532\n",
    "-500,-761,534\n",
    "-322,571,750\n",
    "-466,-666,-811\n",
    "-429,-592,574\n",
    "-355,545,-477\n",
    "703,-491,-529\n",
    "-328,-685,520\n",
    "413,935,-424\n",
    "-391,539,-444\n",
    "586,-435,557\n",
    "-364,-763,-893\n",
    "807,-499,-711\n",
    "755,-354,-619\n",
    "553,889,-390\n",
    "\n",
    "--- scanner 2 ---\n",
    "649,640,665\n",
    "682,-795,504\n",
    "-784,533,-524\n",
    "-644,584,-595\n",
    "-588,-843,648\n",
    "-30,6,44\n",
    "-674,560,763\n",
    "500,723,-460\n",
    "609,671,-379\n",
    "-555,-800,653\n",
    "-675,-892,-343\n",
    "697,-426,-610\n",
    "578,704,681\n",
    "493,664,-388\n",
    "-671,-858,530\n",
    "-667,343,800\n",
    "571,-461,-707\n",
    "-138,-166,112\n",
    "-889,563,-600\n",
    "646,-828,498\n",
    "640,759,510\n",
    "-630,509,768\n",
    "-681,-892,-333\n",
    "673,-379,-804\n",
    "-742,-814,-386\n",
    "577,-820,562\n",
    "\n",
    "--- scanner 3 ---\n",
    "-589,542,597\n",
    "605,-692,669\n",
    "-500,565,-823\n",
    "-660,373,557\n",
    "-458,-679,-417\n",
    "-488,449,543\n",
    "-626,468,-788\n",
    "338,-750,-386\n",
    "528,-832,-391\n",
    "562,-778,733\n",
    "-938,-730,414\n",
    "543,643,-506\n",
    "-524,371,-870\n",
    "407,773,750\n",
    "-104,29,83\n",
    "378,-903,-323\n",
    "-778,-728,485\n",
    "426,699,580\n",
    "-438,-605,-362\n",
    "-469,-447,-387\n",
    "509,732,623\n",
    "647,635,-688\n",
    "-868,-804,481\n",
    "614,-800,639\n",
    "595,780,-596\n",
    "\n",
    "--- scanner 4 ---\n",
    "727,592,562\n",
    "-293,-554,779\n",
    "441,611,-461\n",
    "-714,465,-776\n",
    "-743,427,-804\n",
    "-660,-479,-426\n",
    "832,-632,460\n",
    "927,-485,-438\n",
    "408,393,-506\n",
    "466,436,-512\n",
    "110,16,151\n",
    "-258,-428,682\n",
    "-393,719,612\n",
    "-211,-452,876\n",
    "808,-476,-593\n",
    "-575,615,604\n",
    "-485,667,467\n",
    "-680,325,-822\n",
    "-627,-443,-432\n",
    "872,-547,-609\n",
    "833,512,582\n",
    "807,604,487\n",
    "839,-516,451\n",
    "891,-625,532\n",
    "-652,-548,-490\n",
    "30,-46,-14'''\n",
    "\n"
   ]
  },
  {
   "cell_type": "code",
   "execution_count": 324,
   "id": "461d7151",
   "metadata": {},
   "outputs": [
    {
     "data": {
      "text/plain": [
       "array([[ 404, -588, -901],\n",
       "       [ 528, -643,  409],\n",
       "       [-838,  591,  734],\n",
       "       [ 390, -675, -793],\n",
       "       [-537, -823, -458],\n",
       "       [-485, -357,  347],\n",
       "       [-345, -311,  381],\n",
       "       [-661, -816, -575],\n",
       "       [-876,  649,  763],\n",
       "       [-618, -824, -621],\n",
       "       [ 553,  345, -567],\n",
       "       [ 474,  580,  667],\n",
       "       [-447, -329,  318],\n",
       "       [-584,  868, -557],\n",
       "       [ 544, -627, -890],\n",
       "       [ 564,  392, -477],\n",
       "       [ 455,  729,  728],\n",
       "       [-892,  524,  684],\n",
       "       [-689,  845, -530],\n",
       "       [ 423, -701,  434],\n",
       "       [   7,  -33,  -71],\n",
       "       [ 630,  319, -379],\n",
       "       [ 443,  580,  662],\n",
       "       [-789,  900, -551],\n",
       "       [ 459, -707,  401]])"
      ]
     },
     "execution_count": 324,
     "metadata": {},
     "output_type": "execute_result"
    }
   ],
   "source": [
    "scanners = [[j for j in i.split('\\n')[1:] if j!=''] for i in test.split('--- scanner ')[1:]]\n",
    "scanners = [np.array([[int(k) for k in j.split(',')] for j in i]) for i in scanners]\n",
    "scanners[0]"
   ]
  },
  {
   "cell_type": "code",
   "execution_count": 325,
   "id": "a62d3d6c",
   "metadata": {},
   "outputs": [
    {
     "data": {
      "text/plain": [
       "2.5615528128088303"
      ]
     },
     "execution_count": 325,
     "metadata": {},
     "output_type": "execute_result"
    }
   ],
   "source": [
    "def scanner_matches(sc0,sc1):\n",
    "    npairs = len(set(distance_matrix(sc0,sc0).flatten())&set(distance_matrix(sc1,sc1).flatten())) - 1\n",
    "    return np.sqrt(2*npairs + 1/4) - 1/2 + 1\n",
    "\n",
    "scanner_matches(beacons,scanners[3])"
   ]
  },
  {
   "cell_type": "code",
   "execution_count": 326,
   "id": "6ad31efb",
   "metadata": {},
   "outputs": [
    {
     "data": {
      "text/plain": [
       "(array([[-537, -823, -458],\n",
       "        [-447, -329,  318],\n",
       "        [-345, -311,  381],\n",
       "        [-485, -357,  347],\n",
       "        [ 459, -707,  401],\n",
       "        [ 423, -701,  434],\n",
       "        [ 390, -675, -793],\n",
       "        [-618, -824, -621],\n",
       "        [-661, -816, -575],\n",
       "        [ 528, -643,  409],\n",
       "        [ 404, -588, -901],\n",
       "        [ 544, -627, -890]]),\n",
       " array([[ 605,  423,  415],\n",
       "        [ 515,  917, -361],\n",
       "        [ 413,  935, -424],\n",
       "        [ 553,  889, -390],\n",
       "        [-391,  539, -444],\n",
       "        [-355,  545, -477],\n",
       "        [-322,  571,  750],\n",
       "        [ 686,  422,  578],\n",
       "        [ 729,  430,  532],\n",
       "        [-460,  603, -452],\n",
       "        [-336,  658,  858],\n",
       "        [-476,  619,  847]]))"
      ]
     },
     "execution_count": 326,
     "metadata": {},
     "output_type": "execute_result"
    }
   ],
   "source": [
    "def get_matches(sc0,sc1):\n",
    "#Distance matrices\n",
    "    if scanner_matches(sc0,sc1) < 12:\n",
    "        return\n",
    "    dist0 = distance_matrix(sc0,sc0)\n",
    "    dist1 = distance_matrix(sc1,sc1)\n",
    "\n",
    "    #Matching values\n",
    "    matching = set(dist0.flatten())&set(dist1.flatten())\n",
    "\n",
    "    #Indices of matching values\n",
    "    ind0 = np.where(np.array([i in matching for i in dist0.flatten()]).reshape(dist0.shape).sum(axis=1)>=12)\n",
    "    ind1 = np.where(np.array([i in matching for i in dist1.flatten()]).reshape(dist1.shape).sum(axis=1)>=12)\n",
    "\n",
    "    match0 = sc0[ind0]\n",
    "    match1 = sc1[ind1]\n",
    "\n",
    "    dist0 = distance_matrix(match0,match0)\n",
    "    match0 = match0[np.argsort(dist0.mean(axis=1))]\n",
    "    dist1 = distance_matrix(match1,match1)\n",
    "    match1 = match1[np.argsort(dist1.mean(axis=1))]\n",
    "    \n",
    "    return match0,match1\n",
    "\n",
    "get_matches(scanners[0],scanners[1])"
   ]
  },
  {
   "cell_type": "code",
   "execution_count": 343,
   "id": "3d245be6",
   "metadata": {},
   "outputs": [
    {
     "data": {
      "text/plain": [
       "array([[ -618.,  -824.,  -621.],\n",
       "       [ -537.,  -823.,  -458.],\n",
       "       [ -447.,  -329.,   318.],\n",
       "       [  404.,  -588.,  -901.],\n",
       "       [  -27., -1108.,   -65.],\n",
       "       [  544.,  -627.,  -890.],\n",
       "       [  408., -1815.,   803.],\n",
       "       [ -499., -1607.,  -770.],\n",
       "       [  528.,  -643.,   409.],\n",
       "       [ -601., -1648.,  -643.],\n",
       "       [ -661.,  -816.,  -575.],\n",
       "       [  568., -2007.,  -577.],\n",
       "       [  390.,  -675.,  -793.],\n",
       "       [  534., -1912.,   768.],\n",
       "       [  497., -1838.,  -617.],\n",
       "       [  423.,  -701.,   434.],\n",
       "       [ -635., -1737.,   486.],\n",
       "       [  396., -1931.,  -563.],\n",
       "       [ -345.,  -311.,   381.],\n",
       "       [  459.,  -707.,   401.],\n",
       "       [ -518., -1681.,  -600.],\n",
       "       [  432., -2009.,   850.],\n",
       "       [ -739., -1745.,   668.],\n",
       "       [ -687., -1600.,   576.],\n",
       "       [ -485.,  -357.,   347.]])"
      ]
     },
     "execution_count": 343,
     "metadata": {},
     "output_type": "execute_result"
    }
   ],
   "source": [
    "sc0,sc1 = scanners[0],scanners[1]\n",
    "def get_transformed(sc0,sc1):\n",
    "    match0,match1 = get_matches(sc0,sc1)\n",
    "    reg = LinearRegression().fit(match1,match0)\n",
    "    return np.rint(reg.predict(sc1))\n",
    "\n",
    "get_transformed(sc0,sc1)"
   ]
  },
  {
   "cell_type": "code",
   "execution_count": 345,
   "id": "82151b8f",
   "metadata": {},
   "outputs": [],
   "source": [
    "beacons = scanners[0]\n",
    "done = np.repeat(False,len(scanners))\n",
    "done[0] = True\n",
    "while not np.all(done):\n",
    "    for i in range(len(scanners)):\n",
    "        if not done[i]:\n",
    "            sc = scanners[i]\n",
    "            num = scanner_matches(beacons,sc)\n",
    "            if num >= 12:\n",
    "                new = get_transformed(beacons,sc)\n",
    "                beacons = np.unique(np.append(beacons,new,axis=0),axis=0)\n",
    "                done[i] = True"
   ]
  },
  {
   "cell_type": "code",
   "execution_count": 346,
   "id": "848ce9ed",
   "metadata": {},
   "outputs": [
    {
     "data": {
      "text/plain": [
       "79"
      ]
     },
     "execution_count": 346,
     "metadata": {},
     "output_type": "execute_result"
    }
   ],
   "source": [
    "len(beacons)"
   ]
  },
  {
   "cell_type": "markdown",
   "id": "d124b830",
   "metadata": {},
   "source": [
    "Okay, the example works! Now let's try the problem."
   ]
  },
  {
   "cell_type": "code",
   "execution_count": 348,
   "id": "94a12bd1",
   "metadata": {},
   "outputs": [
    {
     "data": {
      "text/plain": [
       "378"
      ]
     },
     "execution_count": 348,
     "metadata": {},
     "output_type": "execute_result"
    }
   ],
   "source": [
    "scanners = [[j for j in i.split('\\n')[1:] if j!=''] for i in day19.split('--- scanner ')[1:]]\n",
    "scanners = [np.array([[int(k) for k in j.split(',')] for j in i]) for i in scanners]\n",
    "\n",
    "beacons = scanners[0]\n",
    "done = np.repeat(False,len(scanners))\n",
    "done[0] = True\n",
    "while not np.all(done):\n",
    "    for i in range(len(scanners)):\n",
    "        if not done[i]:\n",
    "            sc = scanners[i]\n",
    "            num = scanner_matches(beacons,sc)\n",
    "            if num >= 12:\n",
    "                new = get_transformed(beacons,sc)\n",
    "                beacons = np.unique(np.append(beacons,new,axis=0),axis=0)\n",
    "                done[i] = True\n",
    "\n",
    "len(beacons)"
   ]
  },
  {
   "cell_type": "code",
   "execution_count": 351,
   "id": "0059e46a",
   "metadata": {},
   "outputs": [],
   "source": [
    "def get_scanner(sc0,sc1):\n",
    "    match0,match1 = get_matches(sc0,sc1)\n",
    "    reg = LinearRegression().fit(match1,match0)\n",
    "    return reg.intercept_"
   ]
  },
  {
   "cell_type": "code",
   "execution_count": 352,
   "id": "e87dddf5",
   "metadata": {},
   "outputs": [],
   "source": [
    "scanners = [[j for j in i.split('\\n')[1:] if j!=''] for i in day19.split('--- scanner ')[1:]]\n",
    "scanners = [np.array([[int(k) for k in j.split(',')] for j in i]) for i in scanners]\n",
    "\n",
    "scannerloc = []\n",
    "\n",
    "beacons = scanners[0]\n",
    "done = np.repeat(False,len(scanners))\n",
    "done[0] = True\n",
    "while not np.all(done):\n",
    "    for i in range(len(scanners)):\n",
    "        if not done[i]:\n",
    "            sc = scanners[i]\n",
    "            num = scanner_matches(beacons,sc)\n",
    "            if num >= 12:\n",
    "                new = get_transformed(beacons,sc)\n",
    "                beacons = np.unique(np.append(beacons,new,axis=0),axis=0)\n",
    "                scannerloc.append(get_scanner(beacons,sc))\n",
    "                done[i] = True"
   ]
  },
  {
   "cell_type": "code",
   "execution_count": 353,
   "id": "75f150d8",
   "metadata": {},
   "outputs": [
    {
     "data": {
      "text/plain": [
       "[array([1117.,  110.,    2.]),\n",
       " array([-118.,   62., 1184.]),\n",
       " array([1157.,  125., 1081.]),\n",
       " array([2428.,   -8., 1258.]),\n",
       " array([ 1213., -1163.,   -83.]),\n",
       " array([ 1106., -2264.,    11.]),\n",
       " array([ -119., -2390.,   -58.]),\n",
       " array([ 1146., -1076.,  1131.]),\n",
       " array([2358.,   35.,   55.]),\n",
       " array([ 1066., -1172.,  2432.]),\n",
       " array([-1.223e+03,  5.500e+01,  1.000e+00]),\n",
       " array([1195.,   48., 2365.]),\n",
       " array([2321., 1180.,  -92.]),\n",
       " array([3594.,  -16.,    5.]),\n",
       " array([2259., 2358., -125.]),\n",
       " array([-1206., -2265.,    60.]),\n",
       " array([1205., 1180., 2285.]),\n",
       " array([2292., 3715.,   68.]),\n",
       " array([3525., 2487., -110.]),\n",
       " array([3499., 3664.,   41.]),\n",
       " array([3597., 1300.,   46.]),\n",
       " array([-1195., -3575.,   -30.]),\n",
       " array([4638., 2451., -106.]),\n",
       " array([ 3504.,  1269., -1287.]),\n",
       " array([3532., 1263., 1097.]),\n",
       " array([ 3500.,  3631., -1219.]),\n",
       " array([ 3584., -1097.,    28.]),\n",
       " array([ 3552.,  2494., -1276.]),\n",
       " array([4662., 1149.,    6.]),\n",
       " array([ 3549.,  2476., -2383.])]"
      ]
     },
     "execution_count": 353,
     "metadata": {},
     "output_type": "execute_result"
    }
   ],
   "source": [
    "scannerloc"
   ]
  },
  {
   "cell_type": "code",
   "execution_count": 356,
   "id": "a8af19d5",
   "metadata": {},
   "outputs": [
    {
     "data": {
      "text/plain": [
       "13148.0"
      ]
     },
     "execution_count": 356,
     "metadata": {},
     "output_type": "execute_result"
    }
   ],
   "source": [
    "np.max(distance_matrix(scannerloc,scannerloc,p=1))"
   ]
  },
  {
   "cell_type": "markdown",
   "id": "30d4558d",
   "metadata": {},
   "source": [
    "Got it!"
   ]
  }
 ],
 "metadata": {
  "kernelspec": {
   "display_name": "Python 3 (ipykernel)",
   "language": "python",
   "name": "python3"
  },
  "language_info": {
   "codemirror_mode": {
    "name": "ipython",
    "version": 3
   },
   "file_extension": ".py",
   "mimetype": "text/x-python",
   "name": "python",
   "nbconvert_exporter": "python",
   "pygments_lexer": "ipython3",
   "version": "3.9.7"
  }
 },
 "nbformat": 4,
 "nbformat_minor": 5
}
