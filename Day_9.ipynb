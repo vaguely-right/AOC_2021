{
 "cells": [
  {
   "cell_type": "code",
   "execution_count": 2,
   "id": "0d6f5156",
   "metadata": {},
   "outputs": [],
   "source": [
    "from aocd import get_data\n",
    "import numpy as np\n",
    "from numpy.lib.stride_tricks import sliding_window_view\n",
    "\n",
    "day9 = get_data(day=9,year=2021)"
   ]
  },
  {
   "cell_type": "markdown",
   "id": "cc1fcb54",
   "metadata": {},
   "source": [
    "Trying this with a moving window"
   ]
  },
  {
   "cell_type": "code",
   "execution_count": 3,
   "id": "41d1b6df",
   "metadata": {},
   "outputs": [
    {
     "name": "stdout",
     "output_type": "stream",
     "text": [
      "1820\n"
     ]
    }
   ],
   "source": [
    "heightmap = np.array([[int(j) for j in i] for i in day9.split('\\n')])\n",
    "heightmap = np.pad(heightmap,1,'constant',constant_values=10)\n",
    "\n",
    "\n",
    "lowvals = np.minimum(sliding_window_view(heightmap,(3,1)).min(axis=-1).min(axis=-1)[:,1:101],sliding_window_view(heightmap,(1,3)).min(axis=-1).min(axis=-1)[1:101,:])\n",
    "\n",
    "print(np.sum(np.where(heightmap[1:101,1:101]==lowvals,lowvals+1,0)))"
   ]
  },
  {
   "cell_type": "markdown",
   "id": "6c4af0cf",
   "metadata": {},
   "source": [
    "That's the wrong answer! It includes plateaus where a point is equal to its neighbours, not less than."
   ]
  },
  {
   "cell_type": "code",
   "execution_count": 4,
   "id": "5cd29a11",
   "metadata": {},
   "outputs": [
    {
     "name": "stdout",
     "output_type": "stream",
     "text": [
      "530.0\n"
     ]
    }
   ],
   "source": [
    "lowvals = np.zeros((102,102))-1\n",
    "heightmap = np.array([[int(j) for j in i] for i in day9.split('\\n')])\n",
    "heightmap = np.pad(heightmap,1,'constant',constant_values=10)\n",
    "for i in range(1,101):\n",
    "    for j in range(1,101):\n",
    "        if (heightmap[i,j] < heightmap[i-1,j]) & (heightmap[i,j] < heightmap[i+1,j]) & (heightmap[i,j] < heightmap[i,j-1]) & (heightmap[i,j] < heightmap[i,j+1]):\n",
    "            lowvals[i,j] = heightmap[i,j]\n",
    "            \n",
    "print(np.sum(np.where(heightmap==lowvals,lowvals+1,0)))\n"
   ]
  },
  {
   "cell_type": "markdown",
   "id": "f9f6d418",
   "metadata": {},
   "source": [
    "That's correct! On to Part II."
   ]
  },
  {
   "cell_type": "code",
   "execution_count": 5,
   "id": "0128feae",
   "metadata": {},
   "outputs": [
    {
     "name": "stdout",
     "output_type": "stream",
     "text": [
      "3486\n",
      "1191\n",
      "904\n",
      "654\n",
      "434\n",
      "241\n",
      "117\n",
      "38\n",
      "0\n",
      "1019494\n"
     ]
    }
   ],
   "source": [
    "import pandas as pd\n",
    "basins = lowvals.copy()\n",
    "b = 0\n",
    "\n",
    "for i in range(1,101):\n",
    "    for j in range(1,101):\n",
    "        if lowvals[i,j] >= 0:\n",
    "            basins[i,j] = b\n",
    "            b += 1\n",
    "\n",
    "changes = 1\n",
    "while changes > 0:\n",
    "    changes = 0\n",
    "    for i in range(1,101):\n",
    "        for j in range(1,101):\n",
    "            if basins[i,j] >= 0:\n",
    "                if (heightmap[i-1,j] < 9) & (basins[i-1,j] < 0):\n",
    "                    changes += 1\n",
    "                    basins[i-1,j] = basins[i,j]\n",
    "                if (heightmap[i+1,j] < 9) & (basins[i+1,j] < 0):\n",
    "                    changes += 1\n",
    "                    basins[i+1,j] = basins[i,j]\n",
    "                if (heightmap[i,j-1] < 9) & (basins[i,j-1] < 0):\n",
    "                    changes += 1\n",
    "                    basins[i,j-1] = basins[i,j]\n",
    "                if (heightmap[i,j+1] < 9) & (basins[i,j+1] < 0):\n",
    "                    changes += 1\n",
    "                    basins[i,j+1] = basins[i,j]\n",
    "    print(changes)\n",
    "\n",
    "print(pd.DataFrame(basins.flatten()).replace(-1,np.nan).value_counts()[0:3].product())\n"
   ]
  },
  {
   "cell_type": "markdown",
   "id": "af487e59",
   "metadata": {},
   "source": [
    "Got it!"
   ]
  }
 ],
 "metadata": {
  "kernelspec": {
   "display_name": "Python 3 (ipykernel)",
   "language": "python",
   "name": "python3"
  },
  "language_info": {
   "codemirror_mode": {
    "name": "ipython",
    "version": 3
   },
   "file_extension": ".py",
   "mimetype": "text/x-python",
   "name": "python",
   "nbconvert_exporter": "python",
   "pygments_lexer": "ipython3",
   "version": "3.9.7"
  }
 },
 "nbformat": 4,
 "nbformat_minor": 5
}
