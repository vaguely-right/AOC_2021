{
 "cells": [
  {
   "cell_type": "code",
   "execution_count": 1,
   "id": "f462ed96",
   "metadata": {},
   "outputs": [],
   "source": [
    "from aocd import get_data\n",
    "import numpy as np\n",
    "\n",
    "day21 = get_data(day=21,year=2021)"
   ]
  },
  {
   "cell_type": "code",
   "execution_count": 9,
   "id": "40223cfa",
   "metadata": {},
   "outputs": [],
   "source": [
    "def turn(start_space):\n",
    "    rolls = np.random.randint(low=1,high=6) + np.random.randint(low=1,high=6) + np.random.randint(low=1,high=6)\n",
    "    out_space = start_space + rolls\n",
    "    if out_space > 20: out_space -= 20\n",
    "    if out_space > 10: out_space -= 10\n",
    "    return out_space"
   ]
  },
  {
   "cell_type": "code",
   "execution_count": 41,
   "id": "eb50957d",
   "metadata": {},
   "outputs": [
    {
     "data": {
      "text/plain": [
       "739785"
      ]
     },
     "execution_count": 41,
     "metadata": {},
     "output_type": "execute_result"
    }
   ],
   "source": [
    "scores = [0,0]\n",
    "spaces = [4,8]\n",
    "die = 1\n",
    "player = 0\n",
    "rolls = 0\n",
    "while np.max(scores)<1000:\n",
    "    for i in range(3):\n",
    "        spaces[player] += die\n",
    "        die += 1\n",
    "        rolls += 1\n",
    "        if die > 100 : die = 1\n",
    "    spaces[player] = spaces[player] % 10\n",
    "    if spaces[player] == 0: spaces[player] = 10\n",
    "    scores[player] += spaces[player]\n",
    "    player = 1 - player\n",
    "\n",
    "np.min(scores) * rolls"
   ]
  },
  {
   "cell_type": "code",
   "execution_count": 46,
   "id": "b98738fe",
   "metadata": {},
   "outputs": [
    {
     "data": {
      "text/plain": [
       "929625"
      ]
     },
     "execution_count": 46,
     "metadata": {},
     "output_type": "execute_result"
    }
   ],
   "source": [
    "scores = [0,0]\n",
    "spaces = [int(day21.split('\\n')[0][-1]),int(day21.split('\\n')[1][-1])]\n",
    "die = 1\n",
    "player = 0\n",
    "rolls = 0\n",
    "while np.max(scores)<1000:\n",
    "    for i in range(3):\n",
    "        spaces[player] += die\n",
    "        die += 1\n",
    "        rolls += 1\n",
    "        if die > 100 : die = 1\n",
    "    spaces[player] = spaces[player] % 10\n",
    "    if spaces[player] == 0: spaces[player] = 10\n",
    "    scores[player] += spaces[player]\n",
    "    player = 1 - player\n",
    "\n",
    "np.min(scores) * rolls"
   ]
  },
  {
   "cell_type": "markdown",
   "id": "6bccc56b",
   "metadata": {},
   "source": [
    "Done! On to Part II. It's..... very different."
   ]
  },
  {
   "cell_type": "code",
   "execution_count": 118,
   "id": "0103a181",
   "metadata": {},
   "outputs": [],
   "source": [
    "import pandas as pd\n",
    "gamestate = pd.DataFrame(columns=['turns','score0','score1','space0','space1','universes'])\n",
    "gamestate = gamestate.append(pd.DataFrame({'turns':[0],\n",
    "                                           'score0':[0],\n",
    "                                           'score1':[0],\n",
    "                                           'space0':[4],\n",
    "                                           'space1':[8],\n",
    "                                           'universes':[1]}))"
   ]
  },
  {
   "cell_type": "code",
   "execution_count": 119,
   "id": "79e1f70c",
   "metadata": {},
   "outputs": [
    {
     "data": {
      "text/html": [
       "<div>\n",
       "<style scoped>\n",
       "    .dataframe tbody tr th:only-of-type {\n",
       "        vertical-align: middle;\n",
       "    }\n",
       "\n",
       "    .dataframe tbody tr th {\n",
       "        vertical-align: top;\n",
       "    }\n",
       "\n",
       "    .dataframe thead th {\n",
       "        text-align: right;\n",
       "    }\n",
       "</style>\n",
       "<table border=\"1\" class=\"dataframe\">\n",
       "  <thead>\n",
       "    <tr style=\"text-align: right;\">\n",
       "      <th></th>\n",
       "      <th>turns</th>\n",
       "      <th>score0</th>\n",
       "      <th>score1</th>\n",
       "      <th>space0</th>\n",
       "      <th>space1</th>\n",
       "      <th>universes</th>\n",
       "    </tr>\n",
       "  </thead>\n",
       "  <tbody>\n",
       "    <tr>\n",
       "      <th>0</th>\n",
       "      <td>0</td>\n",
       "      <td>0</td>\n",
       "      <td>0</td>\n",
       "      <td>4</td>\n",
       "      <td>8</td>\n",
       "      <td>1</td>\n",
       "    </tr>\n",
       "  </tbody>\n",
       "</table>\n",
       "</div>"
      ],
      "text/plain": [
       "  turns score0 score1 space0 space1 universes\n",
       "0     0      0      0      4      8         1"
      ]
     },
     "execution_count": 119,
     "metadata": {},
     "output_type": "execute_result"
    }
   ],
   "source": [
    "gamestate"
   ]
  },
  {
   "cell_type": "code",
   "execution_count": 120,
   "id": "48c55999",
   "metadata": {},
   "outputs": [
    {
     "name": "stdout",
     "output_type": "stream",
     "text": [
      "Working on turn 1\n",
      "1  lines\n",
      "Working on turn 2\n",
      "7  lines\n",
      "Working on turn 3\n",
      "49  lines\n",
      "Working on turn 4\n",
      "343  lines\n",
      "Working on turn 5\n",
      "2401  lines\n",
      "Working on turn 6\n",
      "5439  lines\n",
      "Working on turn 7\n",
      "12210  lines\n",
      "Working on turn 8\n",
      "10120  lines\n",
      "Working on turn 9\n",
      "8464  lines\n",
      "Working on turn 10\n",
      "6440  lines\n",
      "Working on turn 11\n",
      "4900  lines\n",
      "Working on turn 12\n",
      "3430  lines\n",
      "Working on turn 13\n",
      "2401  lines\n",
      "Working on turn 14\n",
      "1225  lines\n",
      "Working on turn 15\n",
      "625  lines\n",
      "Working on turn 16\n",
      "250  lines\n",
      "Working on turn 17\n",
      "100  lines\n",
      "Working on turn 18\n",
      "10  lines\n",
      "Working on turn 19\n",
      "1  lines\n"
     ]
    }
   ],
   "source": [
    "newstate = gamestate[(gamestate.turns==np.max(gamestate.turns))&(gamestate.score0<21)&(gamestate.score1<21)]\n",
    "rollsdist = [0,0,0,1,3,6,7,6,3,1]\n",
    "while len(newstate>0):\n",
    "#for j in range(10):\n",
    "    newturn = np.max(gamestate.turns) + 1\n",
    "    print('Working on turn',newturn)\n",
    "    print(len(newstate),' lines')\n",
    "    player = np.max(gamestate.turns) % 2\n",
    "    for i,df in newstate.iterrows():\n",
    "        for rolls in range(3,10):\n",
    "            newspace = df['space'+str(player)] + rolls\n",
    "            if newspace > 10: newspace -= 10\n",
    "            newscore = df['score'+str(player)] + newspace\n",
    "            newuniverses = df['universes'] * rollsdist[rolls]\n",
    "            gamestate = gamestate.append(pd.DataFrame({'turns':[newturn],\n",
    "                                           'score'+str(1-player):[df['score'+str(1-player)]],\n",
    "                                           'score'+str(player):[newscore],\n",
    "                                           'space'+str(1-player):[df['space'+str(1-player)]],\n",
    "                                           'space'+str(player):[newspace],\n",
    "                                           'universes':[newuniverses]}))\n",
    "    gamestate = gamestate.groupby(['turns','score0','score1','space0','space1'],as_index=False).aggregate({'universes':'sum'}).reindex(columns=gamestate.columns)\n",
    "    newstate = gamestate[(gamestate.turns==np.max(gamestate.turns))&(gamestate.score0<21)&(gamestate.score1<21)]"
   ]
  },
  {
   "cell_type": "code",
   "execution_count": 123,
   "id": "1ae7bcf3",
   "metadata": {},
   "outputs": [
    {
     "name": "stdout",
     "output_type": "stream",
     "text": [
      "444356092776315\n",
      "341960390180808\n"
     ]
    }
   ],
   "source": [
    "print(gamestate.query('score0>20').universes.sum())\n",
    "print(gamestate.query('score1>20').universes.sum())"
   ]
  },
  {
   "cell_type": "markdown",
   "id": "e2547441",
   "metadata": {},
   "source": [
    "Works for the example! Now do the real thing."
   ]
  },
  {
   "cell_type": "code",
   "execution_count": 124,
   "id": "30b5176a",
   "metadata": {},
   "outputs": [
    {
     "name": "stdout",
     "output_type": "stream",
     "text": [
      "Working on turn 1\n",
      "1  lines\n",
      "Working on turn 2\n",
      "7  lines\n",
      "Working on turn 3\n",
      "49  lines\n",
      "Working on turn 4\n",
      "343  lines\n",
      "Working on turn 5\n",
      "2401  lines\n",
      "Working on turn 6\n",
      "5733  lines\n",
      "Working on turn 7\n",
      "11232  lines\n",
      "Working on turn 8\n",
      "8832  lines\n",
      "Working on turn 9\n",
      "7268  lines\n",
      "Working on turn 10\n",
      "5530  lines\n",
      "Working on turn 11\n",
      "3640  lines\n",
      "Working on turn 12\n",
      "2548  lines\n",
      "Working on turn 13\n",
      "1519  lines\n",
      "Working on turn 14\n",
      "775  lines\n",
      "Working on turn 15\n",
      "375  lines\n",
      "Working on turn 16\n",
      "150  lines\n",
      "Working on turn 17\n",
      "30  lines\n",
      "Working on turn 18\n",
      "3  lines\n"
     ]
    }
   ],
   "source": [
    "gamestate = pd.DataFrame(columns=['turns','score0','score1','space0','space1','universes'])\n",
    "gamestate = gamestate.append(pd.DataFrame({'turns':[0],\n",
    "                                           'score0':[0],\n",
    "                                           'score1':[0],\n",
    "                                           'space0':[int(day21.split('\\n')[0][-1])],\n",
    "                                           'space1':[int(day21.split('\\n')[1][-1])],\n",
    "                                           'universes':[1]}))\n",
    "newstate = gamestate[(gamestate.turns==np.max(gamestate.turns))&(gamestate.score0<21)&(gamestate.score1<21)]\n",
    "rollsdist = [0,0,0,1,3,6,7,6,3,1]\n",
    "while len(newstate>0):\n",
    "#for j in range(10):\n",
    "    newturn = np.max(gamestate.turns) + 1\n",
    "    print('Working on turn',newturn)\n",
    "    print(len(newstate),' lines')\n",
    "    player = np.max(gamestate.turns) % 2\n",
    "    for i,df in newstate.iterrows():\n",
    "        for rolls in range(3,10):\n",
    "            newspace = df['space'+str(player)] + rolls\n",
    "            if newspace > 10: newspace -= 10\n",
    "            newscore = df['score'+str(player)] + newspace\n",
    "            newuniverses = df['universes'] * rollsdist[rolls]\n",
    "            gamestate = gamestate.append(pd.DataFrame({'turns':[newturn],\n",
    "                                           'score'+str(1-player):[df['score'+str(1-player)]],\n",
    "                                           'score'+str(player):[newscore],\n",
    "                                           'space'+str(1-player):[df['space'+str(1-player)]],\n",
    "                                           'space'+str(player):[newspace],\n",
    "                                           'universes':[newuniverses]}))\n",
    "    gamestate = gamestate.groupby(['turns','score0','score1','space0','space1'],as_index=False).aggregate({'universes':'sum'}).reindex(columns=gamestate.columns)\n",
    "    newstate = gamestate[(gamestate.turns==np.max(gamestate.turns))&(gamestate.score0<21)&(gamestate.score1<21)]\n",
    "\n"
   ]
  },
  {
   "cell_type": "code",
   "execution_count": 125,
   "id": "8472aacb",
   "metadata": {},
   "outputs": [
    {
     "name": "stdout",
     "output_type": "stream",
     "text": [
      "153087536629019\n",
      "175731756652760\n"
     ]
    }
   ],
   "source": [
    "print(gamestate.query('score0>20').universes.sum())\n",
    "print(gamestate.query('score1>20').universes.sum())"
   ]
  },
  {
   "cell_type": "markdown",
   "id": "9b372fce",
   "metadata": {},
   "source": [
    "Got it!"
   ]
  }
 ],
 "metadata": {
  "kernelspec": {
   "display_name": "Python 3 (ipykernel)",
   "language": "python",
   "name": "python3"
  },
  "language_info": {
   "codemirror_mode": {
    "name": "ipython",
    "version": 3
   },
   "file_extension": ".py",
   "mimetype": "text/x-python",
   "name": "python",
   "nbconvert_exporter": "python",
   "pygments_lexer": "ipython3",
   "version": "3.9.7"
  }
 },
 "nbformat": 4,
 "nbformat_minor": 5
}
