{
 "cells": [
  {
   "cell_type": "code",
   "execution_count": 1,
   "id": "5faec3d6",
   "metadata": {},
   "outputs": [],
   "source": [
    "from aocd import get_data\n",
    "import numpy as np\n",
    "\n",
    "day8 = get_data(day=8,year=2021)"
   ]
  },
  {
   "cell_type": "markdown",
   "id": "f5f2a087",
   "metadata": {},
   "source": [
    "Part I seems to be too easy; I'm suspicious about Part II."
   ]
  },
  {
   "cell_type": "code",
   "execution_count": 2,
   "id": "85dc7689",
   "metadata": {},
   "outputs": [
    {
     "data": {
      "text/plain": [
       "409"
      ]
     },
     "execution_count": 2,
     "metadata": {},
     "output_type": "execute_result"
    }
   ],
   "source": [
    "num = np.array([[len(j) for j in i.split('|')[1].split()] for i in day8.split('\\n')])\n",
    "\n",
    "np.sum((num==2) + (num==3) + (num==4) + (num==7))\n"
   ]
  },
  {
   "cell_type": "markdown",
   "id": "632af719",
   "metadata": {},
   "source": [
    "That's the answer, what's the next part?"
   ]
  },
  {
   "cell_type": "code",
   "execution_count": 4,
   "id": "bf6f0f04",
   "metadata": {},
   "outputs": [
    {
     "name": "stdout",
     "output_type": "stream",
     "text": [
      "1024649\n"
     ]
    }
   ],
   "source": [
    "code = {}\n",
    "answer = 0\n",
    "for line in day8.split('\\n'):\n",
    "    incode = line.split('|')[0].split()\n",
    "    outcode = line.split('|')[1].split()\n",
    "    # Get the easy numbers first\n",
    "    # The match command isn't implemented until Python 3.10, and Anaconda is still on 3.9!\n",
    "    for i in incode:\n",
    "        if len(i) == 2:\n",
    "            code[1] = ''.join(sorted(i))\n",
    "        elif len(i) == 3:\n",
    "            code[7] = ''.join(sorted(i))\n",
    "        elif len(i) == 4:\n",
    "            code[4] = ''.join(sorted(i))\n",
    "        elif len(i) == 7:\n",
    "            code[8] = ''.join(sorted(i))\n",
    "    # Now get the others\n",
    "    for i in incode:\n",
    "        if len(i) == 5:\n",
    "            if all(j in list(i) for j in list(code[1])):\n",
    "                code[3] = ''.join(sorted(i))\n",
    "            elif sum(j in list(i) for j in list(code[4])) == 3:\n",
    "                code[5] = ''.join(sorted(i))\n",
    "            else:\n",
    "                code[2] = ''.join(sorted(i))\n",
    "        elif len(i) == 6:\n",
    "            if all(j in list(i) for j in list(code[4])):\n",
    "                code[9] = ''.join(sorted(i))\n",
    "            elif all(j in list(i) for j in list(code[7])):\n",
    "                code[0] = ''.join(sorted(i))\n",
    "            else:\n",
    "                code[6] = ''.join(sorted(i))\n",
    "    # Reverse the code dictionary\n",
    "    code = {j: i for i,j in code.items()}\n",
    "    # Sort the outcode string entries\n",
    "    outcode = [''.join(sorted(i)) for i in outcode]\n",
    "    answer += int(''.join([str(code[i]) for i in outcode]))\n",
    "print(answer)"
   ]
  },
  {
   "cell_type": "markdown",
   "id": "5b26f8b4",
   "metadata": {},
   "source": [
    "Got it!"
   ]
  },
  {
   "cell_type": "code",
   "execution_count": null,
   "id": "a83ca6d0",
   "metadata": {},
   "outputs": [],
   "source": []
  }
 ],
 "metadata": {
  "kernelspec": {
   "display_name": "Python 3 (ipykernel)",
   "language": "python",
   "name": "python3"
  },
  "language_info": {
   "codemirror_mode": {
    "name": "ipython",
    "version": 3
   },
   "file_extension": ".py",
   "mimetype": "text/x-python",
   "name": "python",
   "nbconvert_exporter": "python",
   "pygments_lexer": "ipython3",
   "version": "3.9.7"
  }
 },
 "nbformat": 4,
 "nbformat_minor": 5
}
