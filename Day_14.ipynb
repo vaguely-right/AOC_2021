{
 "cells": [
  {
   "cell_type": "code",
   "execution_count": 109,
   "id": "0fa4564f",
   "metadata": {},
   "outputs": [],
   "source": [
    "from aocd import get_data\n",
    "import numpy as np\n",
    "import pandas as pd\n",
    "\n",
    "day14 = get_data(day=14,year=2021)"
   ]
  },
  {
   "cell_type": "code",
   "execution_count": 110,
   "id": "1d0a8685",
   "metadata": {},
   "outputs": [],
   "source": [
    "template = day14.split('\\n')[0]\n",
    "rules = [i.split(' -> ') for i in day14.split('\\n')[2:]]\n",
    "elements = set([i[1] for i in rules])"
   ]
  },
  {
   "cell_type": "code",
   "execution_count": 111,
   "id": "72c8991e",
   "metadata": {},
   "outputs": [
    {
     "data": {
      "text/plain": [
       "{'B', 'C', 'F', 'H', 'K', 'N', 'O', 'P', 'S', 'V'}"
      ]
     },
     "execution_count": 111,
     "metadata": {},
     "output_type": "execute_result"
    }
   ],
   "source": [
    "elements"
   ]
  },
  {
   "cell_type": "code",
   "execution_count": 112,
   "id": "554baad8",
   "metadata": {},
   "outputs": [],
   "source": [
    "polymer = pd.DataFrame(index=elements,columns=elements).fillna(0)\n",
    "for i,j in zip(template[:-1],template[1:]):\n",
    "    polymer.loc[i,j] += 1"
   ]
  },
  {
   "cell_type": "code",
   "execution_count": 113,
   "id": "38e2374d",
   "metadata": {},
   "outputs": [],
   "source": [
    "nsteps = 10\n",
    "for step in range(nsteps):\n",
    "    change = pd.DataFrame(index=elements,columns=elements).fillna(0)\n",
    "    for rule in rules:\n",
    "        a,b,c = rule[0][0],rule[0][1],rule[1]\n",
    "        change.loc[a,b] -= polymer.loc[a,b]\n",
    "        change.loc[a,c] += polymer.loc[a,b]\n",
    "        change.loc[c,b] += polymer.loc[a,b]\n",
    "    polymer += change"
   ]
  },
  {
   "cell_type": "code",
   "execution_count": 114,
   "id": "abf9d0cb",
   "metadata": {},
   "outputs": [
    {
     "data": {
      "text/plain": [
       "2797"
      ]
     },
     "execution_count": 114,
     "metadata": {},
     "output_type": "execute_result"
    }
   ],
   "source": [
    "counts = [polymer[i].sum()+(i==template[0]) for i in elements]\n",
    "np.max(counts) - np.min(counts)"
   ]
  },
  {
   "cell_type": "markdown",
   "id": "3448afef",
   "metadata": {},
   "source": [
    "Got it! Way too much messing around to just find I put a - instead of an = in one spot."
   ]
  },
  {
   "cell_type": "code",
   "execution_count": 115,
   "id": "dff3b4ca",
   "metadata": {},
   "outputs": [
    {
     "data": {
      "text/plain": [
       "2926813379532"
      ]
     },
     "execution_count": 115,
     "metadata": {},
     "output_type": "execute_result"
    }
   ],
   "source": [
    "polymer = pd.DataFrame(index=elements,columns=elements).fillna(0)\n",
    "for i,j in zip(template[:-1],template[1:]):\n",
    "    polymer.loc[i,j] += 1\n",
    "nsteps = 40\n",
    "for step in range(nsteps):\n",
    "    change = pd.DataFrame(index=elements,columns=elements).fillna(0)\n",
    "    for rule in rules:\n",
    "        a,b,c = rule[0][0],rule[0][1],rule[1]\n",
    "        change.loc[a,b] -= polymer.loc[a,b]\n",
    "        change.loc[a,c] += polymer.loc[a,b]\n",
    "        change.loc[c,b] += polymer.loc[a,b]\n",
    "    polymer += change\n",
    "counts = [polymer[i].sum()+(i==template[0]) for i in elements]\n",
    "np.max(counts) - np.min(counts)"
   ]
  },
  {
   "cell_type": "markdown",
   "id": "06f899f5",
   "metadata": {},
   "source": [
    "Well, that was easy."
   ]
  }
 ],
 "metadata": {
  "kernelspec": {
   "display_name": "Python 3 (ipykernel)",
   "language": "python",
   "name": "python3"
  },
  "language_info": {
   "codemirror_mode": {
    "name": "ipython",
    "version": 3
   },
   "file_extension": ".py",
   "mimetype": "text/x-python",
   "name": "python",
   "nbconvert_exporter": "python",
   "pygments_lexer": "ipython3",
   "version": "3.9.7"
  }
 },
 "nbformat": 4,
 "nbformat_minor": 5
}
