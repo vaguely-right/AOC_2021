{
 "cells": [
  {
   "cell_type": "code",
   "execution_count": 3,
   "id": "9a1aaa8f",
   "metadata": {},
   "outputs": [],
   "source": [
    "from aocd import get_data\n",
    "import numpy as np\n",
    "\n",
    "day6 = get_data(day=6,year=2021)"
   ]
  },
  {
   "cell_type": "code",
   "execution_count": 4,
   "id": "42a8a588",
   "metadata": {},
   "outputs": [],
   "source": [
    "lf = np.array([int(i) for i in day6.split(',')])"
   ]
  },
  {
   "cell_type": "code",
   "execution_count": 5,
   "id": "af29d543",
   "metadata": {},
   "outputs": [
    {
     "name": "stdout",
     "output_type": "stream",
     "text": [
      "300\n",
      "474\n",
      "502\n",
      "532\n",
      "565\n",
      "600\n",
      "600\n",
      "600\n",
      "774\n",
      "802\n",
      "1006\n",
      "1067\n",
      "1132\n",
      "1165\n",
      "1200\n",
      "1374\n",
      "1402\n",
      "1780\n",
      "1869\n",
      "2138\n",
      "2232\n",
      "2332\n",
      "2539\n",
      "2602\n",
      "3154\n",
      "3271\n",
      "3918\n",
      "4101\n",
      "4470\n",
      "4771\n",
      "4934\n",
      "5693\n",
      "5873\n",
      "7072\n",
      "7372\n",
      "8388\n",
      "8872\n",
      "9404\n",
      "10464\n",
      "10807\n",
      "12765\n",
      "13245\n",
      "15460\n",
      "16244\n",
      "17792\n",
      "19336\n",
      "20211\n",
      "23229\n",
      "24052\n",
      "28225\n",
      "29489\n",
      "33252\n",
      "35580\n",
      "38003\n",
      "42565\n",
      "44263\n",
      "51454\n",
      "53541\n",
      "61477\n",
      "65069\n",
      "71255\n",
      "78145\n",
      "82266\n",
      "94019\n",
      "97804\n",
      "112931\n",
      "118610\n",
      "132732\n",
      "143214\n",
      "153521\n",
      "172164\n",
      "180070\n",
      "206950\n",
      "216414\n",
      "245663\n",
      "261824\n",
      "286253\n",
      "315378\n",
      "333591\n",
      "379114\n"
     ]
    }
   ],
   "source": [
    "for i in range(80):\n",
    "    lf = lf - 1\n",
    "    newfish = np.sum(lf<0)\n",
    "    lf = np.where(lf<0,6,lf)\n",
    "    lf = np.append(lf,np.ones(newfish)*8)\n",
    "    print(len(lf))\n"
   ]
  },
  {
   "cell_type": "markdown",
   "id": "1e674799",
   "metadata": {},
   "source": [
    "Done part 1!"
   ]
  },
  {
   "cell_type": "code",
   "execution_count": 6,
   "id": "9ef45b93",
   "metadata": {},
   "outputs": [],
   "source": [
    "lf = np.array([int(i) for i in day6.split(',')])"
   ]
  },
  {
   "cell_type": "markdown",
   "id": "1c4a8254",
   "metadata": {},
   "source": [
    "This must be much, much more efficient because of the exponential growth."
   ]
  },
  {
   "cell_type": "code",
   "execution_count": 7,
   "id": "0c5f660f",
   "metadata": {},
   "outputs": [
    {
     "name": "stdout",
     "output_type": "stream",
     "text": [
      "300\n",
      "474\n",
      "502\n",
      "532\n",
      "565\n",
      "600\n",
      "600\n",
      "600\n",
      "774\n",
      "802\n",
      "1006\n",
      "1067\n",
      "1132\n",
      "1165\n",
      "1200\n",
      "1374\n",
      "1402\n",
      "1780\n",
      "1869\n",
      "2138\n",
      "2232\n",
      "2332\n",
      "2539\n",
      "2602\n",
      "3154\n",
      "3271\n",
      "3918\n",
      "4101\n",
      "4470\n",
      "4771\n",
      "4934\n",
      "5693\n",
      "5873\n",
      "7072\n",
      "7372\n",
      "8388\n",
      "8872\n",
      "9404\n",
      "10464\n",
      "10807\n",
      "12765\n",
      "13245\n",
      "15460\n",
      "16244\n",
      "17792\n",
      "19336\n",
      "20211\n",
      "23229\n",
      "24052\n",
      "28225\n",
      "29489\n",
      "33252\n",
      "35580\n",
      "38003\n",
      "42565\n",
      "44263\n",
      "51454\n",
      "53541\n",
      "61477\n",
      "65069\n",
      "71255\n",
      "78145\n",
      "82266\n",
      "94019\n",
      "97804\n",
      "112931\n",
      "118610\n",
      "132732\n",
      "143214\n",
      "153521\n",
      "172164\n",
      "180070\n",
      "206950\n",
      "216414\n",
      "245663\n",
      "261824\n",
      "286253\n",
      "315378\n",
      "333591\n",
      "379114\n"
     ]
    }
   ],
   "source": [
    "nfish = np.array([np.sum(lf==i) for i in range(9)])\n",
    "for i in range(80):\n",
    "    newfish = nfish[0]\n",
    "    for j in range(0,8):\n",
    "        nfish[j] = nfish[j+1]\n",
    "    nfish[6] = nfish[6] + newfish\n",
    "    nfish[8] = newfish\n",
    "    print(np.sum(nfish))\n"
   ]
  },
  {
   "cell_type": "code",
   "execution_count": 9,
   "id": "9d87b45d",
   "metadata": {},
   "outputs": [
    {
     "name": "stdout",
     "output_type": "stream",
     "text": [
      "1702631502303\n"
     ]
    }
   ],
   "source": [
    "nfish = np.array([np.sum(lf==i) for i in range(9)],dtype=np.longlong)\n",
    "for i in range(256):\n",
    "    newfish = nfish[0]\n",
    "    for j in range(0,8):\n",
    "        nfish[j] = nfish[j+1]\n",
    "    nfish[6] = nfish[6] + newfish\n",
    "    nfish[8] = newfish\n",
    "print(np.sum(nfish))"
   ]
  },
  {
   "cell_type": "code",
   "execution_count": null,
   "id": "20ffcfaa",
   "metadata": {},
   "outputs": [],
   "source": []
  }
 ],
 "metadata": {
  "kernelspec": {
   "display_name": "Python 3 (ipykernel)",
   "language": "python",
   "name": "python3"
  },
  "language_info": {
   "codemirror_mode": {
    "name": "ipython",
    "version": 3
   },
   "file_extension": ".py",
   "mimetype": "text/x-python",
   "name": "python",
   "nbconvert_exporter": "python",
   "pygments_lexer": "ipython3",
   "version": "3.9.7"
  }
 },
 "nbformat": 4,
 "nbformat_minor": 5
}
