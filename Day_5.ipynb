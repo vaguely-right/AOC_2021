{
 "cells": [
  {
   "cell_type": "code",
   "execution_count": 26,
   "id": "38549ecd",
   "metadata": {},
   "outputs": [],
   "source": [
    "from aocd import get_data\n",
    "import numpy as np\n",
    "import pandas as pd\n",
    "\n",
    "day5 = get_data(day=5,year=2021)"
   ]
  },
  {
   "cell_type": "code",
   "execution_count": 34,
   "id": "d199f004",
   "metadata": {},
   "outputs": [
    {
     "data": {
      "text/html": [
       "<div>\n",
       "<style scoped>\n",
       "    .dataframe tbody tr th:only-of-type {\n",
       "        vertical-align: middle;\n",
       "    }\n",
       "\n",
       "    .dataframe tbody tr th {\n",
       "        vertical-align: top;\n",
       "    }\n",
       "\n",
       "    .dataframe thead th {\n",
       "        text-align: right;\n",
       "    }\n",
       "</style>\n",
       "<table border=\"1\" class=\"dataframe\">\n",
       "  <thead>\n",
       "    <tr style=\"text-align: right;\">\n",
       "      <th></th>\n",
       "      <th>x1</th>\n",
       "      <th>y1</th>\n",
       "      <th>x2</th>\n",
       "      <th>y2</th>\n",
       "    </tr>\n",
       "  </thead>\n",
       "  <tbody>\n",
       "    <tr>\n",
       "      <th>0</th>\n",
       "      <td>365</td>\n",
       "      <td>809</td>\n",
       "      <td>365</td>\n",
       "      <td>271</td>\n",
       "    </tr>\n",
       "    <tr>\n",
       "      <th>1</th>\n",
       "      <td>899</td>\n",
       "      <td>814</td>\n",
       "      <td>899</td>\n",
       "      <td>921</td>\n",
       "    </tr>\n",
       "    <tr>\n",
       "      <th>2</th>\n",
       "      <td>967</td>\n",
       "      <td>913</td>\n",
       "      <td>434</td>\n",
       "      <td>913</td>\n",
       "    </tr>\n",
       "    <tr>\n",
       "      <th>3</th>\n",
       "      <td>971</td>\n",
       "      <td>362</td>\n",
       "      <td>631</td>\n",
       "      <td>362</td>\n",
       "    </tr>\n",
       "    <tr>\n",
       "      <th>4</th>\n",
       "      <td>597</td>\n",
       "      <td>422</td>\n",
       "      <td>597</td>\n",
       "      <td>575</td>\n",
       "    </tr>\n",
       "  </tbody>\n",
       "</table>\n",
       "</div>"
      ],
      "text/plain": [
       "    x1   y1   x2   y2\n",
       "0  365  809  365  271\n",
       "1  899  814  899  921\n",
       "2  967  913  434  913\n",
       "3  971  362  631  362\n",
       "4  597  422  597  575"
      ]
     },
     "execution_count": 34,
     "metadata": {},
     "output_type": "execute_result"
    }
   ],
   "source": [
    "df = pd.DataFrame([[int(j) for j in i.replace(' -> ',',').split(',')] for i in day5.split('\\n')],columns=['x1','y1','x2','y2'])\n",
    "df.head()"
   ]
  },
  {
   "cell_type": "code",
   "execution_count": 35,
   "id": "37d86ced",
   "metadata": {},
   "outputs": [
    {
     "data": {
      "text/plain": [
       "x1    987\n",
       "y1    989\n",
       "x2    988\n",
       "y2    988\n",
       "dtype: int64"
      ]
     },
     "execution_count": 35,
     "metadata": {},
     "output_type": "execute_result"
    }
   ],
   "source": [
    "df.max()"
   ]
  },
  {
   "cell_type": "code",
   "execution_count": 58,
   "id": "81389371",
   "metadata": {},
   "outputs": [
    {
     "data": {
      "text/plain": [
       "(500, 4)"
      ]
     },
     "execution_count": 58,
     "metadata": {},
     "output_type": "execute_result"
    }
   ],
   "source": [
    "lines = np.array([[int(j) for j in i.replace(' -> ',',').split(',')] for i in day5.split('\\n')])\n",
    "np.shape(lines)"
   ]
  },
  {
   "cell_type": "code",
   "execution_count": 66,
   "id": "10897eba",
   "metadata": {},
   "outputs": [],
   "source": [
    "nlines = np.zeros((1000,1000))\n",
    "for l in lines:\n",
    "    [x1,y1,x2,y2] = l\n",
    "    if x1==x2:\n",
    "        for j in range(np.minimum(y1,y2),np.maximum(y1,y2)+1):\n",
    "            nlines[x1,j] += 1\n",
    "    if y1==y2:\n",
    "        for i in range(np.minimum(x1,x2),np.maximum(x1,x2)+1):\n",
    "            nlines[i,y1] += 1\n",
    "            "
   ]
  },
  {
   "cell_type": "code",
   "execution_count": 70,
   "id": "74dee7d0",
   "metadata": {},
   "outputs": [
    {
     "data": {
      "text/plain": [
       "6710"
      ]
     },
     "execution_count": 70,
     "metadata": {},
     "output_type": "execute_result"
    }
   ],
   "source": [
    "np.sum(nlines > 1)"
   ]
  },
  {
   "cell_type": "markdown",
   "id": "cd0a7dd9",
   "metadata": {},
   "source": [
    "Done! Entirely too much screwing around with loops etc and I'm sure it's not efficient. Whatever."
   ]
  },
  {
   "cell_type": "code",
   "execution_count": 87,
   "id": "cc07afcf",
   "metadata": {},
   "outputs": [
    {
     "name": "stdout",
     "output_type": "stream",
     "text": [
      "20121\n"
     ]
    }
   ],
   "source": [
    "nlines = np.zeros((1000,1000))\n",
    "for l in lines:\n",
    "    [x1,y1,x2,y2] = l\n",
    "    if x1==x2:\n",
    "        for j in range(np.minimum(y1,y2),np.maximum(y1,y2)+1):\n",
    "            nlines[x1,j] += 1\n",
    "    elif y1==y2:\n",
    "        for i in range(np.minimum(x1,x2),np.maximum(x1,x2)+1):\n",
    "            nlines[i,y1] += 1\n",
    "    else:\n",
    "        for i in range(np.maximum(x1,x2)-np.minimum(x1,x2)+1):\n",
    "            xdir = (x2>x1)*1 + (x2<x1)*-1\n",
    "            ydir = (y2>y1)*1 + (y2<y1)*-1\n",
    "            x = x1+i*xdir\n",
    "            y = y1+i*ydir\n",
    "            nlines[x,y] += 1\n",
    "print(np.sum(nlines > 1))"
   ]
  },
  {
   "cell_type": "markdown",
   "id": "010a3037",
   "metadata": {},
   "source": [
    "Got it!"
   ]
  }
 ],
 "metadata": {
  "kernelspec": {
   "display_name": "Python 3 (ipykernel)",
   "language": "python",
   "name": "python3"
  },
  "language_info": {
   "codemirror_mode": {
    "name": "ipython",
    "version": 3
   },
   "file_extension": ".py",
   "mimetype": "text/x-python",
   "name": "python",
   "nbconvert_exporter": "python",
   "pygments_lexer": "ipython3",
   "version": "3.9.7"
  }
 },
 "nbformat": 4,
 "nbformat_minor": 5
}
