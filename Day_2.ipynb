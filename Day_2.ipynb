{
 "cells": [
  {
   "cell_type": "markdown",
   "id": "0a566ae1",
   "metadata": {},
   "source": [
    "Day 2 of Advent of Code 2021. Import packages, etc."
   ]
  },
  {
   "cell_type": "code",
   "execution_count": 1,
   "id": "8a2da703",
   "metadata": {},
   "outputs": [
    {
     "data": {
      "text/plain": [
       "'forward 8\\n'"
      ]
     },
     "execution_count": 1,
     "metadata": {},
     "output_type": "execute_result"
    }
   ],
   "source": [
    "from aocd import get_data\n",
    "import pandas as pd\n",
    "\n",
    "day2 = get_data(day=2,year=2021)\n",
    "\n",
    "day2[:10]"
   ]
  },
  {
   "cell_type": "code",
   "execution_count": 2,
   "id": "a0c5e2db",
   "metadata": {},
   "outputs": [
    {
     "data": {
      "text/html": [
       "<div>\n",
       "<style scoped>\n",
       "    .dataframe tbody tr th:only-of-type {\n",
       "        vertical-align: middle;\n",
       "    }\n",
       "\n",
       "    .dataframe tbody tr th {\n",
       "        vertical-align: top;\n",
       "    }\n",
       "\n",
       "    .dataframe thead th {\n",
       "        text-align: right;\n",
       "    }\n",
       "</style>\n",
       "<table border=\"1\" class=\"dataframe\">\n",
       "  <thead>\n",
       "    <tr style=\"text-align: right;\">\n",
       "      <th></th>\n",
       "      <th>dir</th>\n",
       "      <th>value</th>\n",
       "    </tr>\n",
       "  </thead>\n",
       "  <tbody>\n",
       "    <tr>\n",
       "      <th>0</th>\n",
       "      <td>forward</td>\n",
       "      <td>8</td>\n",
       "    </tr>\n",
       "    <tr>\n",
       "      <th>1</th>\n",
       "      <td>down</td>\n",
       "      <td>9</td>\n",
       "    </tr>\n",
       "    <tr>\n",
       "      <th>2</th>\n",
       "      <td>up</td>\n",
       "      <td>4</td>\n",
       "    </tr>\n",
       "    <tr>\n",
       "      <th>3</th>\n",
       "      <td>down</td>\n",
       "      <td>8</td>\n",
       "    </tr>\n",
       "    <tr>\n",
       "      <th>4</th>\n",
       "      <td>down</td>\n",
       "      <td>3</td>\n",
       "    </tr>\n",
       "  </tbody>\n",
       "</table>\n",
       "</div>"
      ],
      "text/plain": [
       "       dir  value\n",
       "0  forward      8\n",
       "1     down      9\n",
       "2       up      4\n",
       "3     down      8\n",
       "4     down      3"
      ]
     },
     "execution_count": 2,
     "metadata": {},
     "output_type": "execute_result"
    }
   ],
   "source": [
    "df = pd.DataFrame([i.split() for i in day2.split('\\n')],columns=['dir','value'])\n",
    "df.value = pd.to_numeric(df.value)\n",
    "\n",
    "df.head()"
   ]
  },
  {
   "cell_type": "code",
   "execution_count": 3,
   "id": "fa828b4b",
   "metadata": {},
   "outputs": [
    {
     "data": {
      "text/html": [
       "<div>\n",
       "<style scoped>\n",
       "    .dataframe tbody tr th:only-of-type {\n",
       "        vertical-align: middle;\n",
       "    }\n",
       "\n",
       "    .dataframe tbody tr th {\n",
       "        vertical-align: top;\n",
       "    }\n",
       "\n",
       "    .dataframe thead th {\n",
       "        text-align: right;\n",
       "    }\n",
       "</style>\n",
       "<table border=\"1\" class=\"dataframe\">\n",
       "  <thead>\n",
       "    <tr style=\"text-align: right;\">\n",
       "      <th></th>\n",
       "      <th>value</th>\n",
       "    </tr>\n",
       "    <tr>\n",
       "      <th>dir</th>\n",
       "      <th></th>\n",
       "    </tr>\n",
       "  </thead>\n",
       "  <tbody>\n",
       "    <tr>\n",
       "      <th>down</th>\n",
       "      <td>1912</td>\n",
       "    </tr>\n",
       "    <tr>\n",
       "      <th>forward</th>\n",
       "      <td>1878</td>\n",
       "    </tr>\n",
       "    <tr>\n",
       "      <th>up</th>\n",
       "      <td>1135</td>\n",
       "    </tr>\n",
       "  </tbody>\n",
       "</table>\n",
       "</div>"
      ],
      "text/plain": [
       "         value\n",
       "dir           \n",
       "down      1912\n",
       "forward   1878\n",
       "up        1135"
      ]
     },
     "execution_count": 3,
     "metadata": {},
     "output_type": "execute_result"
    }
   ],
   "source": [
    "df.groupby('dir').sum()"
   ]
  },
  {
   "cell_type": "code",
   "execution_count": 4,
   "id": "d3560c73",
   "metadata": {},
   "outputs": [
    {
     "data": {
      "text/plain": [
       "777"
      ]
     },
     "execution_count": 4,
     "metadata": {},
     "output_type": "execute_result"
    }
   ],
   "source": [
    "df[df.dir=='down'].value.sum() - df[df.dir=='up'].value.sum()"
   ]
  },
  {
   "cell_type": "code",
   "execution_count": 6,
   "id": "ca08d405",
   "metadata": {},
   "outputs": [
    {
     "data": {
      "text/plain": [
       "1459206"
      ]
     },
     "execution_count": 6,
     "metadata": {},
     "output_type": "execute_result"
    }
   ],
   "source": [
    "(df[df.dir=='forward'].value.sum()-df[df.dir=='backward'].value.sum()) * (df[df.dir=='down'].value.sum() - df[df.dir=='up'].value.sum())"
   ]
  },
  {
   "cell_type": "markdown",
   "id": "e23fb43e",
   "metadata": {},
   "source": [
    "On to part 2!"
   ]
  },
  {
   "cell_type": "markdown",
   "id": "7516a2ba",
   "metadata": {},
   "source": [
    "Calculate the change in aim for each up and down"
   ]
  },
  {
   "cell_type": "code",
   "execution_count": 7,
   "id": "f7ec7d4b",
   "metadata": {},
   "outputs": [],
   "source": [
    "df['d_aim'] = (df.dir=='down')*(df.value) - (df.dir=='up')*(df.value)\n",
    "df['aim'] = df.d_aim.cumsum()"
   ]
  },
  {
   "cell_type": "markdown",
   "id": "4ee12495",
   "metadata": {},
   "source": [
    "Calculate the horizontal position, change in depth, and depth"
   ]
  },
  {
   "cell_type": "code",
   "execution_count": 8,
   "id": "83a78162",
   "metadata": {},
   "outputs": [],
   "source": [
    "df['hz'] = ((df.dir=='forward')*(df.value)).cumsum()\n",
    "df['d_depth'] = (df.dir=='forward')*(df.value)*(df.aim)\n",
    "df['depth'] = df.d_depth.cumsum()"
   ]
  },
  {
   "cell_type": "code",
   "execution_count": 9,
   "id": "a21da2df",
   "metadata": {},
   "outputs": [
    {
     "data": {
      "text/plain": [
       "1320534480"
      ]
     },
     "execution_count": 9,
     "metadata": {},
     "output_type": "execute_result"
    }
   ],
   "source": [
    "df.hz.iloc[-1] * df.depth.iloc[-1]"
   ]
  },
  {
   "cell_type": "markdown",
   "id": "c3261088",
   "metadata": {},
   "source": [
    "That's the answer!"
   ]
  },
  {
   "cell_type": "markdown",
   "id": "9b62cc26",
   "metadata": {},
   "source": [
    "Do some basic dataviz just because"
   ]
  },
  {
   "cell_type": "code",
   "execution_count": 10,
   "id": "26375ea5",
   "metadata": {},
   "outputs": [
    {
     "data": {
      "image/png": "[encoded data removed]",
      "text/plain": [
       "<Figure size 432x288 with 1 Axes>"
      ]
     },
     "metadata": {
      "needs_background": "light"
     },
     "output_type": "display_data"
    }
   ],
   "source": [
    "import seaborn as sns\n",
    "sns.lineplot(data=df,x='hz',y='depth').invert_yaxis()"
   ]
  },
  {
   "cell_type": "code",
   "execution_count": null,
   "id": "a38325de",
   "metadata": {},
   "outputs": [],
   "source": []
  }
 ],
 "metadata": {
  "kernelspec": {
   "display_name": "Python 3 (ipykernel)",
   "language": "python",
   "name": "python3"
  },
  "language_info": {
   "codemirror_mode": {
    "name": "ipython",
    "version": 3
   },
   "file_extension": ".py",
   "mimetype": "text/x-python",
   "name": "python",
   "nbconvert_exporter": "python",
   "pygments_lexer": "ipython3",
   "version": "3.9.7"
  }
 },
 "nbformat": 4,
 "nbformat_minor": 5
}
