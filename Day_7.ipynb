{
 "cells": [
  {
   "cell_type": "code",
   "execution_count": 8,
   "id": "5db66893",
   "metadata": {},
   "outputs": [],
   "source": [
    "from aocd import get_data\n",
    "import numpy as np\n",
    "\n",
    "day7 = get_data(day=7,year=2021)"
   ]
  },
  {
   "cell_type": "markdown",
   "id": "30a7d092",
   "metadata": {},
   "source": [
    "The absolute error is minimized when the central value is the median of the data."
   ]
  },
  {
   "cell_type": "code",
   "execution_count": 9,
   "id": "101e805d",
   "metadata": {},
   "outputs": [
    {
     "name": "stdout",
     "output_type": "stream",
     "text": [
      "350.0\n",
      "345035.0\n"
     ]
    }
   ],
   "source": [
    "crabs = np.array([int(i) for i in day7.split(',')])\n",
    "print(np.median(crabs))\n",
    "print(np.sum(np.absolute(np.median(crabs)-crabs)))\n"
   ]
  },
  {
   "cell_type": "markdown",
   "id": "8d794447",
   "metadata": {},
   "source": [
    "Okay then, I could have maybe even ranked today if I'd done it at midnight ET. On to part 2!"
   ]
  },
  {
   "cell_type": "code",
   "execution_count": 10,
   "id": "0b81119b",
   "metadata": {},
   "outputs": [],
   "source": [
    "def crabfuel(x,crabs):\n",
    "    fuel = np.sum([np.sum(range(1,int(i)+1)) for i in np.abs(x-crabs)])\n",
    "    return fuel"
   ]
  },
  {
   "cell_type": "code",
   "execution_count": 11,
   "id": "d8ba25fc",
   "metadata": {},
   "outputs": [
    {
     "name": "stdout",
     "output_type": "stream",
     "text": [
      "743 97038163\n"
     ]
    }
   ],
   "source": [
    "minfuel = 1e9\n",
    "for i in range(int(np.percentile(crabs,25)),int(np.percentile(crabs,75))):\n",
    "    fuel = crabfuel(i,crabs)\n",
    "    if fuel < minfuel : minfuel = fuel\n",
    "    minloc = i\n",
    "print(minloc,minfuel)"
   ]
  },
  {
   "cell_type": "markdown",
   "id": "b8f59c65",
   "metadata": {},
   "source": [
    "That is so, so inefficient. Just hit it with a hammer and tried every value. Probably should have done optimization instead, but whatever."
   ]
  },
  {
   "cell_type": "code",
   "execution_count": null,
   "id": "ec64b479",
   "metadata": {},
   "outputs": [],
   "source": []
  }
 ],
 "metadata": {
  "kernelspec": {
   "display_name": "Python 3 (ipykernel)",
   "language": "python",
   "name": "python3"
  },
  "language_info": {
   "codemirror_mode": {
    "name": "ipython",
    "version": 3
   },
   "file_extension": ".py",
   "mimetype": "text/x-python",
   "name": "python",
   "nbconvert_exporter": "python",
   "pygments_lexer": "ipython3",
   "version": "3.9.7"
  }
 },
 "nbformat": 4,
 "nbformat_minor": 5
}
