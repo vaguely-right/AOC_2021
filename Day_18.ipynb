{
 "cells": [
  {
   "cell_type": "code",
   "execution_count": 1,
   "id": "e1820262",
   "metadata": {},
   "outputs": [],
   "source": [
    "from aocd import get_data\n",
    "import numpy as np\n",
    "\n",
    "\n",
    "day18 = get_data(day=18,year=2021)"
   ]
  },
  {
   "cell_type": "code",
   "execution_count": 18,
   "id": "9200ffb0",
   "metadata": {},
   "outputs": [],
   "source": [
    "class snailfish_number():\n",
    "    def __init__(self,instring):\n",
    "        lev = np.cumsum([i=='[' for i in instring]) - np.cumsum([i==']' for i in instring])\n",
    "        self.digits = []\n",
    "        self.levels = []\n",
    "        for i,l in zip(instring,lev):\n",
    "            if i.isnumeric():\n",
    "                self.digits.append(int(i))\n",
    "                self.levels.append(l)\n",
    "                \n",
    "    def explode(self):\n",
    "        if np.max(self.levels) <= 4:\n",
    "            return\n",
    "        else:\n",
    "            exdigit = [i>4 for i in self.levels].index(True)\n",
    "            if exdigit > 0:\n",
    "                self.digits[exdigit-1] += self.digits[exdigit]\n",
    "            if exdigit < (len(self.digits)-2):\n",
    "                self.digits[exdigit+2] += self.digits[exdigit+1]\n",
    "            del self.digits[exdigit+1:exdigit+2]\n",
    "            del self.levels[exdigit+1:exdigit+2]\n",
    "            self.digits[exdigit] = 0\n",
    "            self.levels[exdigit] = self.levels[exdigit]-1\n",
    "            return\n",
    "        \n",
    "    def split(self):\n",
    "        if np.max(self.digits) < 10:\n",
    "            return\n",
    "        else:\n",
    "            spdigit = [i>9 for i in self.digits].index(True)\n",
    "            self.digits.insert(spdigit+1,(self.digits[spdigit]+1)//2)\n",
    "            self.digits[spdigit] = self.digits[spdigit] // 2\n",
    "            self.levels[spdigit] += 1\n",
    "            self.levels.insert(spdigit+1,self.levels[spdigit])            \n",
    "            return\n",
    "        \n",
    "    def reduce(self):\n",
    "        done = False\n",
    "        while not done:\n",
    "            while np.max(self.levels) > 4:\n",
    "                self.explode()\n",
    "            if np.max(self.digits) > 9:\n",
    "                self.split()\n",
    "            if (np.max(self.levels)<=4) & (np.max(self.digits)<=9):\n",
    "                done = True\n",
    "        return\n",
    "    \n",
    "    def add(self,other):\n",
    "        output = snailfish_number('')\n",
    "        output.digits = self.digits + other.digits\n",
    "        output.levels = self.levels + other.levels\n",
    "        output.levels = [i+1 for i in output.levels]\n",
    "        output.reduce()\n",
    "        return output\n",
    "\n",
    "    def magnitude(self):\n",
    "        output = snailfish_number('')\n",
    "        output.digits = self.digits\n",
    "        output.levels = self.levels\n",
    "        if np.max(output.levels) > 4:\n",
    "            output.reduce()\n",
    "        for lev in range(4,1,-1):\n",
    "            while np.max(output.levels)==lev:\n",
    "                dig = [i==lev for i in output.levels].index(True)\n",
    "                output.digits[dig] = 3*output.digits[dig] + 2*output.digits[dig+1]\n",
    "                output.levels[dig] = output.levels[dig] - 1\n",
    "                del output.digits[dig+1]\n",
    "                del output.levels[dig+1]\n",
    "        return 3*output.digits[0] + 2*output.digits[1]\n",
    "            "
   ]
  },
  {
   "cell_type": "code",
   "execution_count": 19,
   "id": "82b951d8",
   "metadata": {},
   "outputs": [
    {
     "name": "stdout",
     "output_type": "stream",
     "text": [
      "[8, 7, 7, 7, 8, 6, 7, 7, 0, 7, 6, 6, 8, 7]\n",
      "[4, 4, 4, 4, 4, 4, 4, 4, 4, 4, 4, 4, 3, 3]\n",
      "3488\n"
     ]
    }
   ],
   "source": [
    "a = snailfish_number('[[[[7,7],[7,7]],[[8,7],[8,7]]],[[[7,0],[7,7]],9]]')\n",
    "b = snailfish_number('[[[[4,2],2],6],[8,7]]')\n",
    "o = a.add(b)\n",
    "print(o.digits)\n",
    "print(o.levels)\n",
    "\n",
    "print(snailfish_number('[[[[8,7],[7,7]],[[8,6],[7,7]]],[[[0,7],[6,6]],[8,7]]]').magnitude())"
   ]
  },
  {
   "cell_type": "code",
   "execution_count": 21,
   "id": "7d868aa6",
   "metadata": {},
   "outputs": [
    {
     "data": {
      "text/plain": [
       "[7, 0, 7, 7, 7, 7, 7, 8, 7, 7, 8, 8, 7, 7, 8, 7]"
      ]
     },
     "execution_count": 21,
     "metadata": {},
     "output_type": "execute_result"
    }
   ],
   "source": [
    "snailfish_number('[[[[6,7],[6,7]],[[7,7],[0,7]]],[[[8,7],[7,7]],[[8,8],[8,0]]]]').add(snailfish_number('[[[[2,4],7],[6,[0,5]]],[[[6,8],[2,8]],[[2,1],[4,5]]]]')).digits"
   ]
  },
  {
   "cell_type": "code",
   "execution_count": 22,
   "id": "d2c6522c",
   "metadata": {},
   "outputs": [
    {
     "name": "stdout",
     "output_type": "stream",
     "text": [
      "4140\n"
     ]
    }
   ],
   "source": [
    "a = '[[[0,[5,8]],[[1,7],[9,6]]],[[4,[1,2]],[[1,4],2]]]\\n[[[5,[2,8]],4],[5,[[9,9],0]]]\\n[6,[[[6,2],[5,6]],[[7,6],[4,7]]]]\\n[[[6,[0,7]],[0,9]],[4,[9,[9,0]]]]\\n[[[7,[6,4]],[3,[1,3]]],[[[5,5],1],9]]\\n[[6,[[7,3],[3,2]]],[[[3,8],[5,7]],4]]\\n[[[[5,4],[7,7]],8],[[8,3],8]]\\n[[9,3],[[9,9],[6,[4,9]]]]\\n[[2,[[7,7],7]],[[5,8],[[9,3],[0,2]]]]\\n[[[[5,2],5],[8,[3,7]]],[[5,[7,5]],[4,4]]]'\n",
    "\n",
    "numbers = [snailfish_number(i) for i in a.split('\\n')]\n",
    "\n",
    "out = numbers[0]\n",
    "for i in numbers[1:]:\n",
    "    out = out.add(i)\n",
    "\n",
    "print(out.magnitude())"
   ]
  },
  {
   "cell_type": "code",
   "execution_count": 23,
   "id": "604d6aa8",
   "metadata": {},
   "outputs": [
    {
     "name": "stdout",
     "output_type": "stream",
     "text": [
      "3725\n"
     ]
    }
   ],
   "source": [
    "numbers = [snailfish_number(i) for i in day18.split('\\n')]\n",
    "\n",
    "out = numbers[0]\n",
    "for i in numbers[1:]:\n",
    "    out = out.add(i)\n",
    "\n",
    "print(out.magnitude())"
   ]
  },
  {
   "cell_type": "markdown",
   "id": "868349b1",
   "metadata": {},
   "source": [
    "That's it! Much smaller than I had thought it would be."
   ]
  },
  {
   "cell_type": "code",
   "execution_count": 25,
   "id": "1fc9b139",
   "metadata": {},
   "outputs": [
    {
     "name": "stdout",
     "output_type": "stream",
     "text": [
      "4832\n"
     ]
    }
   ],
   "source": [
    "numbers = [snailfish_number(i) for i in day18.split('\\n')]\n",
    "\n",
    "maxmag = 0\n",
    "for i in numbers:\n",
    "    for j in numbers:\n",
    "        mag = i.add(j).magnitude()\n",
    "        if mag > maxmag : maxmag = mag\n",
    "            \n",
    "print(maxmag)"
   ]
  },
  {
   "cell_type": "markdown",
   "id": "58703dd4",
   "metadata": {},
   "source": [
    "Once I set up Part I correctly, Part II was easy!"
   ]
  }
 ],
 "metadata": {
  "kernelspec": {
   "display_name": "Python 3 (ipykernel)",
   "language": "python",
   "name": "python3"
  },
  "language_info": {
   "codemirror_mode": {
    "name": "ipython",
    "version": 3
   },
   "file_extension": ".py",
   "mimetype": "text/x-python",
   "name": "python",
   "nbconvert_exporter": "python",
   "pygments_lexer": "ipython3",
   "version": "3.9.7"
  }
 },
 "nbformat": 4,
 "nbformat_minor": 5
}
