{
 "cells": [
  {
   "cell_type": "markdown",
   "id": "ee50cb5d",
   "metadata": {},
   "source": [
    "Import packages and data; I think this one might be easier in Numpy."
   ]
  },
  {
   "cell_type": "code",
   "execution_count": 1,
   "id": "94f87f41",
   "metadata": {},
   "outputs": [],
   "source": [
    "from aocd import get_data\n",
    "import numpy as np\n",
    "\n",
    "day4 = get_data(day=4,year=2021)"
   ]
  },
  {
   "cell_type": "markdown",
   "id": "920514be",
   "metadata": {},
   "source": [
    "Get the draws and the number of them"
   ]
  },
  {
   "cell_type": "code",
   "execution_count": 12,
   "id": "28c84b50",
   "metadata": {},
   "outputs": [
    {
     "name": "stdout",
     "output_type": "stream",
     "text": [
      "[15, 61, 32, 33, 87, 17, 56, 73, 27, 83]\n",
      "100\n"
     ]
    }
   ],
   "source": [
    "draws = [int(i) for i in day4.split('\\n\\n')[0].split(',')]\n",
    "print(draws[:10])\n",
    "ndraws = len(draws)\n",
    "print(ndraws)"
   ]
  },
  {
   "cell_type": "markdown",
   "id": "935a3ee3",
   "metadata": {},
   "source": [
    "Get the cards as a numpy array"
   ]
  },
  {
   "cell_type": "code",
   "execution_count": 13,
   "id": "418c2f93",
   "metadata": {},
   "outputs": [
    {
     "data": {
      "text/plain": [
       "array([[[26, 68,  3, 95, 59],\n",
       "        [40, 88, 50, 22, 48],\n",
       "        [75, 67,  8, 64,  6],\n",
       "        [29,  2, 73, 78,  5],\n",
       "        [49, 25, 80, 89, 96]],\n",
       "\n",
       "       [[57, 26, 21, 56, 70],\n",
       "        [38, 48, 78, 40, 54],\n",
       "        [82, 71, 22, 24,  4],\n",
       "        [16,  9, 65, 42, 79],\n",
       "        [43, 94, 39, 12, 67]],\n",
       "\n",
       "       [[70, 97, 26, 39, 22],\n",
       "        [65, 11, 69,  6, 93],\n",
       "        [71, 74, 72, 57, 59],\n",
       "        [61, 21, 89, 86, 17],\n",
       "        [66, 15, 94, 79, 85]]])"
      ]
     },
     "execution_count": 13,
     "metadata": {},
     "output_type": "execute_result"
    }
   ],
   "source": [
    "cards = np.reshape(np.array(day4.split()[1:],dtype=int),(100,5,5))\n",
    "cards[:3]"
   ]
  },
  {
   "cell_type": "markdown",
   "id": "dc366edb",
   "metadata": {},
   "source": [
    "Find the number of draws for a bingo"
   ]
  },
  {
   "cell_type": "code",
   "execution_count": 58,
   "id": "cbc14fb9",
   "metadata": {},
   "outputs": [
    {
     "name": "stdout",
     "output_type": "stream",
     "text": [
      "22\n"
     ]
    }
   ],
   "source": [
    "n = 4\n",
    "bingo = 0\n",
    "while bingo < 5:\n",
    "    n += 1\n",
    "    bingo = max(np.isin(cards,draws[:n]).sum(axis=1).max(),np.isin(cards,draws[:n]).sum(axis=2).max())\n",
    "print(n)"
   ]
  },
  {
   "cell_type": "markdown",
   "id": "e4f1c4dc",
   "metadata": {},
   "source": [
    "Check if it's a row sum or a column sum"
   ]
  },
  {
   "cell_type": "code",
   "execution_count": 59,
   "id": "84dac868",
   "metadata": {},
   "outputs": [
    {
     "data": {
      "text/plain": [
       "(array([], dtype=int64), array([], dtype=int64))"
      ]
     },
     "execution_count": 59,
     "metadata": {},
     "output_type": "execute_result"
    }
   ],
   "source": [
    "colsums = np.isin(cards,draws[:n]).sum(axis=1)\n",
    "rowsums = np.isin(cards,draws[:n]).sum(axis=2)\n",
    "np.where(rowsums==5)\n"
   ]
  },
  {
   "cell_type": "code",
   "execution_count": 60,
   "id": "e597e8c3",
   "metadata": {},
   "outputs": [
    {
     "name": "stdout",
     "output_type": "stream",
     "text": [
      "Winning card is number  29\n"
     ]
    }
   ],
   "source": [
    "winner = np.where(colsums==5)[0][0]\n",
    "print('Winning card is number ',winner)"
   ]
  },
  {
   "cell_type": "markdown",
   "id": "70f440c8",
   "metadata": {},
   "source": [
    "Calculate the score for the winner"
   ]
  },
  {
   "cell_type": "code",
   "execution_count": 64,
   "id": "268aae7f",
   "metadata": {},
   "outputs": [
    {
     "data": {
      "text/plain": [
       "58412"
      ]
     },
     "execution_count": 64,
     "metadata": {},
     "output_type": "execute_result"
    }
   ],
   "source": [
    "cardsum = np.ma.array(cards[winner],mask=np.isin(cards[winner],draws[:n])).sum()\n",
    "cardsum * draws[n-1]"
   ]
  },
  {
   "cell_type": "markdown",
   "id": "90ae6ba2",
   "metadata": {},
   "source": [
    "Got it! Lots of messing around with indices. On to part 2. Find the last board to win."
   ]
  },
  {
   "cell_type": "code",
   "execution_count": 99,
   "id": "6e7fee90",
   "metadata": {},
   "outputs": [
    {
     "name": "stdout",
     "output_type": "stream",
     "text": [
      "79\n"
     ]
    }
   ],
   "source": [
    "n = 4\n",
    "nobingo = len(cards)\n",
    "while nobingo > 1:\n",
    "    n += 1\n",
    "    nobingo = np.sum(np.max(np.maximum(np.isin(cards,draws[:n]).sum(axis=1),np.isin(cards,draws[:n]).sum(axis=2)),axis=1)<5)\n",
    "ndraws = n\n",
    "print(n)"
   ]
  },
  {
   "cell_type": "code",
   "execution_count": 83,
   "id": "56710e0c",
   "metadata": {},
   "outputs": [
    {
     "name": "stdout",
     "output_type": "stream",
     "text": [
      "Losing card is number  41\n"
     ]
    }
   ],
   "source": [
    "n = 80\n",
    "sums = np.max(np.maximum(np.isin(cards,draws[:n]).sum(axis=1),np.isin(cards,draws[:n]).sum(axis=2)),axis=1)\n",
    "loser = np.where(sums<5)[0][0]\n",
    "print('Losing card is number ',loser)"
   ]
  },
  {
   "cell_type": "markdown",
   "id": "3d2bf518",
   "metadata": {},
   "source": [
    "Now find the card's score *when it finally wins*"
   ]
  },
  {
   "cell_type": "code",
   "execution_count": 112,
   "id": "d1720d79",
   "metadata": {},
   "outputs": [
    {
     "name": "stdout",
     "output_type": "stream",
     "text": [
      "88\n"
     ]
    }
   ],
   "source": [
    "bingo = 0\n",
    "n = ndraws\n",
    "while bingo < 5:\n",
    "    n += 1\n",
    "    bingo = np.maximum(np.sum(np.isin(cards[loser],draws[:n]),axis=1).max(),np.sum(np.isin(cards[loser],draws[:n]),axis=0).max())\n",
    "print(n)\n",
    "    \n",
    "    "
   ]
  },
  {
   "cell_type": "code",
   "execution_count": 117,
   "id": "89e6df4c",
   "metadata": {},
   "outputs": [
    {
     "data": {
      "text/plain": [
       "10030"
      ]
     },
     "execution_count": 117,
     "metadata": {},
     "output_type": "execute_result"
    }
   ],
   "source": [
    "cardsum = np.ma.array(cards[loser],mask=np.isin(cards[loser],draws[:n])).sum()\n",
    "cardsum * draws[n-1]"
   ]
  },
  {
   "cell_type": "markdown",
   "id": "b84ba98b",
   "metadata": {},
   "source": [
    "Done!"
   ]
  }
 ],
 "metadata": {
  "kernelspec": {
   "display_name": "Python 3 (ipykernel)",
   "language": "python",
   "name": "python3"
  },
  "language_info": {
   "codemirror_mode": {
    "name": "ipython",
    "version": 3
   },
   "file_extension": ".py",
   "mimetype": "text/x-python",
   "name": "python",
   "nbconvert_exporter": "python",
   "pygments_lexer": "ipython3",
   "version": "3.9.7"
  }
 },
 "nbformat": 4,
 "nbformat_minor": 5
}
