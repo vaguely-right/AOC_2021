{
 "cells": [
  {
   "cell_type": "code",
   "execution_count": 1,
   "id": "d7c3b7b3",
   "metadata": {},
   "outputs": [],
   "source": [
    "from aocd import get_data\n",
    "import numpy as np\n",
    "\n",
    "day10 = get_data(day=10,year=2021)"
   ]
  },
  {
   "cell_type": "code",
   "execution_count": 7,
   "id": "bdd2aadc",
   "metadata": {},
   "outputs": [
    {
     "name": "stdout",
     "output_type": "stream",
     "text": [
      "Corrupted line, character  ]\n",
      "Corrupted line, character  ]\n",
      "Corrupted line, character  >\n",
      "Corrupted line, character  ]\n",
      "Corrupted line, character  }\n",
      "Corrupted line, character  >\n",
      "Corrupted line, character  ]\n",
      "Corrupted line, character  )\n",
      "Corrupted line, character  )\n",
      "Corrupted line, character  )\n",
      "Corrupted line, character  ]\n",
      "Corrupted line, character  )\n",
      "Corrupted line, character  >\n",
      "Corrupted line, character  ]\n",
      "Corrupted line, character  >\n",
      "Corrupted line, character  >\n",
      "Corrupted line, character  )\n",
      "Corrupted line, character  )\n",
      "Corrupted line, character  >\n",
      "Corrupted line, character  )\n",
      "Corrupted line, character  >\n",
      "Corrupted line, character  )\n",
      "Corrupted line, character  )\n",
      "Corrupted line, character  >\n",
      "Corrupted line, character  }\n",
      "Corrupted line, character  }\n",
      "Corrupted line, character  ]\n",
      "Corrupted line, character  ]\n",
      "Corrupted line, character  }\n",
      "Corrupted line, character  >\n",
      "Corrupted line, character  >\n",
      "Corrupted line, character  )\n",
      "Corrupted line, character  >\n",
      "Corrupted line, character  }\n",
      "Corrupted line, character  }\n",
      "Corrupted line, character  >\n",
      "Corrupted line, character  }\n",
      "Corrupted line, character  )\n",
      "Corrupted line, character  )\n",
      "Corrupted line, character  )\n",
      "Corrupted line, character  )\n",
      "Corrupted line, character  >\n",
      "Corrupted line, character  }\n",
      "Corrupted line, character  )\n",
      "Corrupted line, character  }\n",
      "Corrupted line, character  >\n",
      "Corrupted line, character  ]\n",
      "Corrupted line, character  ]\n",
      "Corrupted line, character  )\n",
      "Corrupted line, character  }\n",
      "Corrupted line, character  )\n",
      "Corrupted line, character  >\n",
      "Corrupted line, character  ]\n",
      "Corrupted line, character  }\n",
      "Corrupted line, character  }\n",
      "392097\n"
     ]
    }
   ],
   "source": [
    "lines = day10.split('\\n')\n",
    "\n",
    "chunksmatch = {'(':')', '[':']', '{':'}', '<':'>'}\n",
    "scores = {')':3, ']':57, '}':1197, '>':25137}\n",
    "score = 0\n",
    "\n",
    "for line in lines:\n",
    "    chunks = []\n",
    "    for i in line:\n",
    "        if i in ['(','[','{','<'] :\n",
    "            chunks.append(i)\n",
    "        elif chunksmatch[chunks[-1]] == i:\n",
    "            del chunks[-1]\n",
    "        else :\n",
    "            print('Corrupted line, character ',i)\n",
    "            score += scores[i]\n",
    "            break\n",
    "\n",
    "print(score)"
   ]
  },
  {
   "cell_type": "markdown",
   "id": "693ed754",
   "metadata": {},
   "source": [
    "Got it! Part II?"
   ]
  },
  {
   "cell_type": "code",
   "execution_count": 9,
   "id": "f1b753ca",
   "metadata": {},
   "outputs": [
    {
     "name": "stdout",
     "output_type": "stream",
     "text": [
      "4263222782.0\n"
     ]
    }
   ],
   "source": [
    "chunksmatch = {'(':')', '[':']', '{':'}', '<':'>'}\n",
    "chunkscores = {')':1, ']':2, '}':3, '>':4}\n",
    "scores = []\n",
    "\n",
    "for line in lines:\n",
    "    chunks = []\n",
    "    score = 0\n",
    "    corrupt = 0\n",
    "    for i in line:\n",
    "        if i in ['(','[','{','<'] :\n",
    "            chunks.append(i)\n",
    "        elif chunksmatch[chunks[-1]] == i:\n",
    "            del chunks[-1]\n",
    "        else :\n",
    "            corrupt = 1\n",
    "            break\n",
    "    if corrupt == 0:\n",
    "        for i in reversed(chunks):\n",
    "            score = score * 5\n",
    "            score += chunkscores[chunksmatch[i]]\n",
    "        scores.append(score)\n",
    "\n",
    "print(np.median(scores))"
   ]
  },
  {
   "cell_type": "markdown",
   "id": "7cf24d1b",
   "metadata": {},
   "source": [
    "Woot! Right answer."
   ]
  }
 ],
 "metadata": {
  "kernelspec": {
   "display_name": "Python 3 (ipykernel)",
   "language": "python",
   "name": "python3"
  },
  "language_info": {
   "codemirror_mode": {
    "name": "ipython",
    "version": 3
   },
   "file_extension": ".py",
   "mimetype": "text/x-python",
   "name": "python",
   "nbconvert_exporter": "python",
   "pygments_lexer": "ipython3",
   "version": "3.9.7"
  }
 },
 "nbformat": 4,
 "nbformat_minor": 5
}
