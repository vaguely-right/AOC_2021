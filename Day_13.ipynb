{
 "cells": [
  {
   "cell_type": "code",
   "execution_count": 67,
   "id": "c6f8ef03",
   "metadata": {},
   "outputs": [],
   "source": [
    "from aocd import get_data\n",
    "import numpy as np\n",
    "\n",
    "day13 = get_data(day=13,year=2021)"
   ]
  },
  {
   "cell_type": "code",
   "execution_count": 68,
   "id": "84f35af3",
   "metadata": {},
   "outputs": [
    {
     "data": {
      "text/plain": [
       "array([[ 176,  226],\n",
       "       [ 749,  474],\n",
       "       [1218,  784],\n",
       "       ...,\n",
       "       [ 145,  257],\n",
       "       [ 999,  276],\n",
       "       [1186,  123]])"
      ]
     },
     "execution_count": 68,
     "metadata": {},
     "output_type": "execute_result"
    }
   ],
   "source": [
    "coords = np.array([[int(j) for j in i.split(',')] for i in day13.split('\\n\\n')[0].split('\\n')])\n",
    "coords\n"
   ]
  },
  {
   "cell_type": "code",
   "execution_count": 93,
   "id": "bed0b6b8",
   "metadata": {},
   "outputs": [
    {
     "data": {
      "text/plain": [
       "(1311, 895)"
      ]
     },
     "execution_count": 93,
     "metadata": {},
     "output_type": "execute_result"
    }
   ],
   "source": [
    "np.max(coords,axis=0)\n",
    "dots = np.zeros((folds[0][1]*2+1,folds[1][1]*2+1))\n",
    "dots.shape"
   ]
  },
  {
   "cell_type": "code",
   "execution_count": 94,
   "id": "3cc5679a",
   "metadata": {},
   "outputs": [],
   "source": [
    "for i,j in coords:\n",
    "    dots[i,j] = 1\n",
    "folds = [[i.split('=')[0][-1],int(i.split('=')[1])] for i in day13.split('\\n\\n')[1].split('\\n')]"
   ]
  },
  {
   "cell_type": "code",
   "execution_count": null,
   "id": "6ef26131",
   "metadata": {},
   "outputs": [],
   "source": []
  },
  {
   "cell_type": "code",
   "execution_count": 95,
   "id": "ec206be8",
   "metadata": {},
   "outputs": [
    {
     "data": {
      "text/plain": [
       "684"
      ]
     },
     "execution_count": 95,
     "metadata": {},
     "output_type": "execute_result"
    }
   ],
   "source": [
    "fold = folds[0]\n",
    "if fold[0] == 'x':\n",
    "        outdots = np.add(dots[:fold[1],:],np.flip(dots[fold[1]+1:,:],axis=0))\n",
    "np.sum(outdots>0)"
   ]
  },
  {
   "cell_type": "markdown",
   "id": "a04be3e9",
   "metadata": {},
   "source": [
    "Got it! I assume Part II is repeating for all instructions."
   ]
  },
  {
   "cell_type": "code",
   "execution_count": 96,
   "id": "e4bd196b",
   "metadata": {},
   "outputs": [
    {
     "data": {
      "text/plain": [
       "98"
      ]
     },
     "execution_count": 96,
     "metadata": {},
     "output_type": "execute_result"
    }
   ],
   "source": [
    "outdots = dots.copy()\n",
    "for fold in folds:\n",
    "    if fold[0] == 'x':\n",
    "        outdots = np.add(outdots[:fold[1],:],np.flip(outdots[fold[1]+1:,:],axis=0))\n",
    "    if fold[0] == 'y':\n",
    "        outdots = np.add(outdots[:,:fold[1]],np.flip(outdots[:,fold[1]+1:],axis=1))\n",
    "np.sum(outdots>0)"
   ]
  },
  {
   "cell_type": "code",
   "execution_count": 97,
   "id": "b110f7e7",
   "metadata": {},
   "outputs": [
    {
     "data": {
      "text/plain": [
       "array([[ 0.,  0.,  0.,  0.,  7.,  0.],\n",
       "       [ 0.,  0.,  0.,  0.,  0.,  3.],\n",
       "       [ 5.,  0.,  0.,  0.,  0.,  2.],\n",
       "       [ 4.,  3.,  2.,  4.,  1.,  0.],\n",
       "       [ 0.,  0.,  0.,  0.,  0.,  0.],\n",
       "       [ 3.,  2.,  5.,  2.,  3., 12.],\n",
       "       [11.,  0.,  0.,  7.,  0.,  0.],\n",
       "       [ 2.,  0.,  0.,  8., 23.,  0.],\n",
       "       [ 0., 14.,  2.,  0.,  0.,  5.],\n",
       "       [ 0.,  0.,  0.,  0.,  0.,  0.],\n",
       "       [ 5.,  0.,  0.,  0., 12.,  6.],\n",
       "       [ 4.,  0.,  0., 27.,  0., 23.],\n",
       "       [ 6.,  0.,  3.,  0.,  0.,  5.],\n",
       "       [ 9., 14.,  0.,  0.,  0.,  9.],\n",
       "       [ 0.,  0.,  0.,  0.,  0.,  0.],\n",
       "       [ 2.,  3., 14., 24., 10., 18.],\n",
       "       [ 2.,  0.,  9.,  0.,  0.,  5.],\n",
       "       [12.,  0., 18.,  0.,  0., 32.],\n",
       "       [ 0., 12.,  0., 15.,  1.,  0.],\n",
       "       [ 0.,  0.,  0.,  0.,  0.,  0.],\n",
       "       [11.,  1.,  1., 19., 10.,  3.],\n",
       "       [ 0.,  0.,  0.,  0.,  0., 14.],\n",
       "       [ 0.,  0.,  0.,  0.,  0., 16.],\n",
       "       [ 0.,  0.,  0.,  0.,  0.,  1.],\n",
       "       [ 0.,  0.,  0.,  0.,  0.,  0.],\n",
       "       [ 0.,  8., 10.,  2.,  9.,  0.],\n",
       "       [ 4.,  0.,  0.,  0.,  0.,  8.],\n",
       "       [ 2.,  0.,  0., 19.,  0.,  9.],\n",
       "       [ 0.,  5.,  0.,  7.,  2., 16.],\n",
       "       [ 0.,  0.,  0.,  0.,  0.,  0.],\n",
       "       [ 2.,  3., 11.,  9.,  8., 19.],\n",
       "       [ 0.,  0.,  9.,  0.,  0.,  0.],\n",
       "       [ 0., 13.,  0.,  5.,  6.,  0.],\n",
       "       [ 8.,  0.,  0.,  0.,  0.,  2.],\n",
       "       [ 0.,  0.,  0.,  0.,  0.,  0.],\n",
       "       [ 3., 13.,  8.,  5., 15.,  9.],\n",
       "       [ 0.,  0., 25.,  0.,  0.,  0.],\n",
       "       [ 0.,  0., 21.,  0.,  0.,  0.],\n",
       "       [ 4., 17.,  1.,  8.,  5., 10.],\n",
       "       [ 0.,  0.,  0.,  0.,  0.,  0.]])"
      ]
     },
     "execution_count": 97,
     "metadata": {},
     "output_type": "execute_result"
    }
   ],
   "source": [
    "outdots"
   ]
  },
  {
   "cell_type": "code",
   "execution_count": 110,
   "id": "a0cb7dc7",
   "metadata": {},
   "outputs": [
    {
     "data": {
      "text/plain": [
       "<matplotlib.image.AxesImage at 0x28f34c2b0d0>"
      ]
     },
     "execution_count": 110,
     "metadata": {},
     "output_type": "execute_result"
    },
    {
     "data": {
      "image/png": "[encoded data removed]",
      "text/plain": [
       "<Figure size 432x288 with 1 Axes>"
      ]
     },
     "metadata": {
      "needs_background": "light"
     },
     "output_type": "display_data"
    }
   ],
   "source": [
    "import matplotlib.pyplot as plt\n",
    "plt.imshow(np.flip(np.rot90(outdots>0,k=3),axis=1))"
   ]
  },
  {
   "cell_type": "markdown",
   "id": "cdfa3b97",
   "metadata": {},
   "source": [
    "Wooooot!"
   ]
  }
 ],
 "metadata": {
  "kernelspec": {
   "display_name": "Python 3 (ipykernel)",
   "language": "python",
   "name": "python3"
  },
  "language_info": {
   "codemirror_mode": {
    "name": "ipython",
    "version": 3
   },
   "file_extension": ".py",
   "mimetype": "text/x-python",
   "name": "python",
   "nbconvert_exporter": "python",
   "pygments_lexer": "ipython3",
   "version": "3.9.7"
  }
 },
 "nbformat": 4,
 "nbformat_minor": 5
}
