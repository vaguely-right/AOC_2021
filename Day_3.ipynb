{
 "cells": [
  {
   "cell_type": "markdown",
   "id": "ecf8a2f6",
   "metadata": {},
   "source": [
    "Load packages and import the data"
   ]
  },
  {
   "cell_type": "code",
   "execution_count": 2,
   "id": "79ae42a4",
   "metadata": {},
   "outputs": [
    {
     "data": {
      "text/plain": [
       "['010001110001',\n",
       " '110100000001',\n",
       " '111001001011',\n",
       " '111100001000',\n",
       " '000111101001',\n",
       " '101111001001',\n",
       " '111111000110',\n",
       " '000101110010',\n",
       " '001101001010',\n",
       " '000110001101']"
      ]
     },
     "execution_count": 2,
     "metadata": {},
     "output_type": "execute_result"
    }
   ],
   "source": [
    "from aocd import get_data\n",
    "import pandas as pd\n",
    "\n",
    "day3 = get_data(day=3,year=2021).split()\n",
    "\n",
    "day3[:10]"
   ]
  },
  {
   "cell_type": "markdown",
   "id": "80e7371c",
   "metadata": {},
   "source": [
    "Looks like this would be easiest in Pandas again."
   ]
  },
  {
   "cell_type": "code",
   "execution_count": 3,
   "id": "3770774d",
   "metadata": {},
   "outputs": [
    {
     "data": {
      "text/html": [
       "<div>\n",
       "<style scoped>\n",
       "    .dataframe tbody tr th:only-of-type {\n",
       "        vertical-align: middle;\n",
       "    }\n",
       "\n",
       "    .dataframe tbody tr th {\n",
       "        vertical-align: top;\n",
       "    }\n",
       "\n",
       "    .dataframe thead th {\n",
       "        text-align: right;\n",
       "    }\n",
       "</style>\n",
       "<table border=\"1\" class=\"dataframe\">\n",
       "  <thead>\n",
       "    <tr style=\"text-align: right;\">\n",
       "      <th></th>\n",
       "      <th>0</th>\n",
       "      <th>1</th>\n",
       "      <th>2</th>\n",
       "      <th>3</th>\n",
       "      <th>4</th>\n",
       "      <th>5</th>\n",
       "      <th>6</th>\n",
       "      <th>7</th>\n",
       "      <th>8</th>\n",
       "      <th>9</th>\n",
       "      <th>10</th>\n",
       "      <th>11</th>\n",
       "    </tr>\n",
       "  </thead>\n",
       "  <tbody>\n",
       "    <tr>\n",
       "      <th>0</th>\n",
       "      <td>0</td>\n",
       "      <td>1</td>\n",
       "      <td>0</td>\n",
       "      <td>0</td>\n",
       "      <td>0</td>\n",
       "      <td>1</td>\n",
       "      <td>1</td>\n",
       "      <td>1</td>\n",
       "      <td>0</td>\n",
       "      <td>0</td>\n",
       "      <td>0</td>\n",
       "      <td>1</td>\n",
       "    </tr>\n",
       "    <tr>\n",
       "      <th>1</th>\n",
       "      <td>1</td>\n",
       "      <td>1</td>\n",
       "      <td>0</td>\n",
       "      <td>1</td>\n",
       "      <td>0</td>\n",
       "      <td>0</td>\n",
       "      <td>0</td>\n",
       "      <td>0</td>\n",
       "      <td>0</td>\n",
       "      <td>0</td>\n",
       "      <td>0</td>\n",
       "      <td>1</td>\n",
       "    </tr>\n",
       "    <tr>\n",
       "      <th>2</th>\n",
       "      <td>1</td>\n",
       "      <td>1</td>\n",
       "      <td>1</td>\n",
       "      <td>0</td>\n",
       "      <td>0</td>\n",
       "      <td>1</td>\n",
       "      <td>0</td>\n",
       "      <td>0</td>\n",
       "      <td>1</td>\n",
       "      <td>0</td>\n",
       "      <td>1</td>\n",
       "      <td>1</td>\n",
       "    </tr>\n",
       "    <tr>\n",
       "      <th>3</th>\n",
       "      <td>1</td>\n",
       "      <td>1</td>\n",
       "      <td>1</td>\n",
       "      <td>1</td>\n",
       "      <td>0</td>\n",
       "      <td>0</td>\n",
       "      <td>0</td>\n",
       "      <td>0</td>\n",
       "      <td>1</td>\n",
       "      <td>0</td>\n",
       "      <td>0</td>\n",
       "      <td>0</td>\n",
       "    </tr>\n",
       "    <tr>\n",
       "      <th>4</th>\n",
       "      <td>0</td>\n",
       "      <td>0</td>\n",
       "      <td>0</td>\n",
       "      <td>1</td>\n",
       "      <td>1</td>\n",
       "      <td>1</td>\n",
       "      <td>1</td>\n",
       "      <td>0</td>\n",
       "      <td>1</td>\n",
       "      <td>0</td>\n",
       "      <td>0</td>\n",
       "      <td>1</td>\n",
       "    </tr>\n",
       "  </tbody>\n",
       "</table>\n",
       "</div>"
      ],
      "text/plain": [
       "  0  1  2  3  4  5  6  7  8  9  10 11\n",
       "0  0  1  0  0  0  1  1  1  0  0  0  1\n",
       "1  1  1  0  1  0  0  0  0  0  0  0  1\n",
       "2  1  1  1  0  0  1  0  0  1  0  1  1\n",
       "3  1  1  1  1  0  0  0  0  1  0  0  0\n",
       "4  0  0  0  1  1  1  1  0  1  0  0  1"
      ]
     },
     "execution_count": 3,
     "metadata": {},
     "output_type": "execute_result"
    }
   ],
   "source": [
    "df = pd.DataFrame([[j for j in i] for i in day3])\n",
    "df.head()"
   ]
  },
  {
   "cell_type": "markdown",
   "id": "a3c88dc6",
   "metadata": {},
   "source": [
    "Using list comprehension, and then converting from binary to base-10"
   ]
  },
  {
   "cell_type": "code",
   "execution_count": 4,
   "id": "747a5efc",
   "metadata": {},
   "outputs": [
    {
     "data": {
      "text/plain": [
       "100100101010"
      ]
     },
     "execution_count": 4,
     "metadata": {},
     "output_type": "execute_result"
    }
   ],
   "source": [
    "int(''.join([df[i].mode().tolist()[0] for i in df.columns]))"
   ]
  },
  {
   "cell_type": "code",
   "execution_count": 5,
   "id": "9417617c",
   "metadata": {},
   "outputs": [
    {
     "data": {
      "text/plain": [
       "2346"
      ]
     },
     "execution_count": 5,
     "metadata": {},
     "output_type": "execute_result"
    }
   ],
   "source": [
    "gamma = int(''.join([df[i].mode().tolist()[0] for i in df.columns]),2)\n",
    "gamma"
   ]
  },
  {
   "cell_type": "code",
   "execution_count": 6,
   "id": "2beb3a53",
   "metadata": {},
   "outputs": [
    {
     "data": {
      "text/html": [
       "<div>\n",
       "<style scoped>\n",
       "    .dataframe tbody tr th:only-of-type {\n",
       "        vertical-align: middle;\n",
       "    }\n",
       "\n",
       "    .dataframe tbody tr th {\n",
       "        vertical-align: top;\n",
       "    }\n",
       "\n",
       "    .dataframe thead th {\n",
       "        text-align: right;\n",
       "    }\n",
       "</style>\n",
       "<table border=\"1\" class=\"dataframe\">\n",
       "  <thead>\n",
       "    <tr style=\"text-align: right;\">\n",
       "      <th></th>\n",
       "      <th>0</th>\n",
       "      <th>1</th>\n",
       "      <th>2</th>\n",
       "      <th>3</th>\n",
       "      <th>4</th>\n",
       "      <th>5</th>\n",
       "      <th>6</th>\n",
       "      <th>7</th>\n",
       "      <th>8</th>\n",
       "      <th>9</th>\n",
       "      <th>10</th>\n",
       "      <th>11</th>\n",
       "    </tr>\n",
       "  </thead>\n",
       "  <tbody>\n",
       "    <tr>\n",
       "      <th>0</th>\n",
       "      <td>1</td>\n",
       "      <td>0</td>\n",
       "      <td>0</td>\n",
       "      <td>1</td>\n",
       "      <td>0</td>\n",
       "      <td>0</td>\n",
       "      <td>1</td>\n",
       "      <td>0</td>\n",
       "      <td>1</td>\n",
       "      <td>0</td>\n",
       "      <td>1</td>\n",
       "      <td>0</td>\n",
       "    </tr>\n",
       "  </tbody>\n",
       "</table>\n",
       "</div>"
      ],
      "text/plain": [
       "  0  1  2  3  4  5  6  7  8  9  10 11\n",
       "0  1  0  0  1  0  0  1  0  1  0  1  0"
      ]
     },
     "execution_count": 6,
     "metadata": {},
     "output_type": "execute_result"
    }
   ],
   "source": [
    "df.mode()"
   ]
  },
  {
   "cell_type": "code",
   "execution_count": 7,
   "id": "453919df",
   "metadata": {},
   "outputs": [
    {
     "data": {
      "text/plain": [
       "1749"
      ]
     },
     "execution_count": 7,
     "metadata": {},
     "output_type": "execute_result"
    }
   ],
   "source": [
    "epsilon = int(''.join([str(1-int(df[i].mode().tolist()[0])) for i in df.columns]),2)\n",
    "epsilon"
   ]
  },
  {
   "cell_type": "code",
   "execution_count": 8,
   "id": "376e8014",
   "metadata": {},
   "outputs": [
    {
     "data": {
      "text/plain": [
       "4103154"
      ]
     },
     "execution_count": 8,
     "metadata": {},
     "output_type": "execute_result"
    }
   ],
   "source": [
    "gamma * epsilon"
   ]
  },
  {
   "cell_type": "markdown",
   "id": "194d4a9a",
   "metadata": {},
   "source": [
    "That's the answer! On to part 2."
   ]
  },
  {
   "cell_type": "code",
   "execution_count": 40,
   "id": "53fb6bed",
   "metadata": {},
   "outputs": [
    {
     "name": "stdout",
     "output_type": "stream",
     "text": [
      "511\n",
      "263\n",
      "134\n",
      "71\n",
      "36\n",
      "20\n",
      "12\n",
      "8\n",
      "5\n",
      "3\n",
      "2\n",
      "1\n"
     ]
    },
    {
     "data": {
      "text/plain": [
       "3399"
      ]
     },
     "execution_count": 40,
     "metadata": {},
     "output_type": "execute_result"
    }
   ],
   "source": [
    "df1 = df\n",
    "i = 0\n",
    "while len(df1)>1:\n",
    "    if df1[i].eq('1').sum() >= df1[i].eq('0').sum():\n",
    "        df1 = df1[df1[i]=='1']\n",
    "    else:\n",
    "        df1 = df1[df1[i]=='0']\n",
    "    if i<11:\n",
    "        i = i+1\n",
    "    else:\n",
    "        i = 0\n",
    "    print(len(df1))\n",
    "ox_rating = int(''.join([df1[i].tolist()[0] for i in df.columns]),2)\n",
    "ox_rating"
   ]
  },
  {
   "cell_type": "code",
   "execution_count": 41,
   "id": "792d9ce6",
   "metadata": {},
   "outputs": [
    {
     "name": "stdout",
     "output_type": "stream",
     "text": [
      "489\n",
      "235\n",
      "109\n",
      "54\n",
      "24\n",
      "11\n",
      "4\n",
      "2\n",
      "1\n"
     ]
    },
    {
     "data": {
      "text/plain": [
       "1249"
      ]
     },
     "execution_count": 41,
     "metadata": {},
     "output_type": "execute_result"
    }
   ],
   "source": [
    "df1 = df\n",
    "i = 0\n",
    "while len(df1)>1:\n",
    "    if df1[i].eq('1').sum() < df1[i].eq('0').sum():\n",
    "        df1 = df1[df1[i]=='1']\n",
    "    else:\n",
    "        df1 = df1[df1[i]=='0']\n",
    "    if i<11:\n",
    "        i = i+1\n",
    "    else:\n",
    "        i = 0\n",
    "    print(len(df1))\n",
    "co2_rating = int(''.join([df1[i].tolist()[0] for i in df.columns]),2)\n",
    "co2_rating"
   ]
  },
  {
   "cell_type": "code",
   "execution_count": 42,
   "id": "6da3a90b",
   "metadata": {},
   "outputs": [
    {
     "data": {
      "text/plain": [
       "4245351"
      ]
     },
     "execution_count": 42,
     "metadata": {},
     "output_type": "execute_result"
    }
   ],
   "source": [
    "ox_rating * co2_rating"
   ]
  },
  {
   "cell_type": "markdown",
   "id": "da0de47e",
   "metadata": {},
   "source": [
    "Got it!"
   ]
  },
  {
   "cell_type": "code",
   "execution_count": null,
   "id": "bce7f9e7",
   "metadata": {},
   "outputs": [],
   "source": []
  }
 ],
 "metadata": {
  "kernelspec": {
   "display_name": "Python 3 (ipykernel)",
   "language": "python",
   "name": "python3"
  },
  "language_info": {
   "codemirror_mode": {
    "name": "ipython",
    "version": 3
   },
   "file_extension": ".py",
   "mimetype": "text/x-python",
   "name": "python",
   "nbconvert_exporter": "python",
   "pygments_lexer": "ipython3",
   "version": "3.9.7"
  }
 },
 "nbformat": 4,
 "nbformat_minor": 5
}
